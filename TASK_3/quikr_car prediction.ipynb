{
 "cells": [
  {
   "cell_type": "markdown",
   "id": "c0901f5a",
   "metadata": {},
   "source": [
    "# importing the essential libraries and the csv file"
   ]
  },
  {
   "cell_type": "code",
   "execution_count": 2,
   "id": "9aec0884",
   "metadata": {
    "ExecuteTime": {
     "end_time": "2024-01-03T18:49:35.078246Z",
     "start_time": "2024-01-03T18:49:30.763853Z"
    }
   },
   "outputs": [],
   "source": [
    "import pandas as pd\n",
    "import numpy  as np\n",
    "import seaborn as sbn\n",
    "import matplotlib.pyplot as  plt\n"
   ]
  },
  {
   "cell_type": "code",
   "execution_count": 3,
   "id": "c5110641",
   "metadata": {
    "ExecuteTime": {
     "end_time": "2024-01-03T18:49:35.174247Z",
     "start_time": "2024-01-03T18:49:35.102181Z"
    }
   },
   "outputs": [],
   "source": [
    "data=pd.read_csv('quikr_car.csv')"
   ]
  },
  {
   "cell_type": "code",
   "execution_count": 4,
   "id": "7ad375a9",
   "metadata": {
    "ExecuteTime": {
     "end_time": "2024-01-03T18:49:35.238185Z",
     "start_time": "2024-01-03T18:49:35.214180Z"
    }
   },
   "outputs": [
    {
     "data": {
      "text/plain": [
       "Index(['name', 'company', 'year', 'Price', 'kms_driven', 'fuel_type'], dtype='object')"
      ]
     },
     "execution_count": 4,
     "metadata": {},
     "output_type": "execute_result"
    }
   ],
   "source": [
    "data.columns"
   ]
  },
  {
   "cell_type": "markdown",
   "id": "98d19368",
   "metadata": {},
   "source": [
    "# Analysing the data in the csv file and its null values and modifying it"
   ]
  },
  {
   "cell_type": "code",
   "execution_count": 5,
   "id": "c5852d99",
   "metadata": {
    "ExecuteTime": {
     "end_time": "2024-01-03T18:49:36.169317Z",
     "start_time": "2024-01-03T18:49:36.130705Z"
    }
   },
   "outputs": [
    {
     "data": {
      "text/html": [
       "<div>\n",
       "<style scoped>\n",
       "    .dataframe tbody tr th:only-of-type {\n",
       "        vertical-align: middle;\n",
       "    }\n",
       "\n",
       "    .dataframe tbody tr th {\n",
       "        vertical-align: top;\n",
       "    }\n",
       "\n",
       "    .dataframe thead th {\n",
       "        text-align: right;\n",
       "    }\n",
       "</style>\n",
       "<table border=\"1\" class=\"dataframe\">\n",
       "  <thead>\n",
       "    <tr style=\"text-align: right;\">\n",
       "      <th></th>\n",
       "      <th>name</th>\n",
       "      <th>company</th>\n",
       "      <th>year</th>\n",
       "      <th>Price</th>\n",
       "      <th>kms_driven</th>\n",
       "      <th>fuel_type</th>\n",
       "    </tr>\n",
       "  </thead>\n",
       "  <tbody>\n",
       "    <tr>\n",
       "      <th>0</th>\n",
       "      <td>Hyundai Santro Xing XO eRLX Euro III</td>\n",
       "      <td>Hyundai</td>\n",
       "      <td>2007</td>\n",
       "      <td>80,000</td>\n",
       "      <td>45,000 kms</td>\n",
       "      <td>Petrol</td>\n",
       "    </tr>\n",
       "    <tr>\n",
       "      <th>1</th>\n",
       "      <td>Mahindra Jeep CL550 MDI</td>\n",
       "      <td>Mahindra</td>\n",
       "      <td>2006</td>\n",
       "      <td>4,25,000</td>\n",
       "      <td>40 kms</td>\n",
       "      <td>Diesel</td>\n",
       "    </tr>\n",
       "    <tr>\n",
       "      <th>2</th>\n",
       "      <td>Maruti Suzuki Alto 800 Vxi</td>\n",
       "      <td>Maruti</td>\n",
       "      <td>2018</td>\n",
       "      <td>Ask For Price</td>\n",
       "      <td>22,000 kms</td>\n",
       "      <td>Petrol</td>\n",
       "    </tr>\n",
       "    <tr>\n",
       "      <th>3</th>\n",
       "      <td>Hyundai Grand i10 Magna 1.2 Kappa VTVT</td>\n",
       "      <td>Hyundai</td>\n",
       "      <td>2014</td>\n",
       "      <td>3,25,000</td>\n",
       "      <td>28,000 kms</td>\n",
       "      <td>Petrol</td>\n",
       "    </tr>\n",
       "    <tr>\n",
       "      <th>4</th>\n",
       "      <td>Ford EcoSport Titanium 1.5L TDCi</td>\n",
       "      <td>Ford</td>\n",
       "      <td>2014</td>\n",
       "      <td>5,75,000</td>\n",
       "      <td>36,000 kms</td>\n",
       "      <td>Diesel</td>\n",
       "    </tr>\n",
       "  </tbody>\n",
       "</table>\n",
       "</div>"
      ],
      "text/plain": [
       "                                     name   company  year          Price  \\\n",
       "0    Hyundai Santro Xing XO eRLX Euro III   Hyundai  2007         80,000   \n",
       "1                 Mahindra Jeep CL550 MDI  Mahindra  2006       4,25,000   \n",
       "2              Maruti Suzuki Alto 800 Vxi    Maruti  2018  Ask For Price   \n",
       "3  Hyundai Grand i10 Magna 1.2 Kappa VTVT   Hyundai  2014       3,25,000   \n",
       "4        Ford EcoSport Titanium 1.5L TDCi      Ford  2014       5,75,000   \n",
       "\n",
       "   kms_driven fuel_type  \n",
       "0  45,000 kms    Petrol  \n",
       "1      40 kms    Diesel  \n",
       "2  22,000 kms    Petrol  \n",
       "3  28,000 kms    Petrol  \n",
       "4  36,000 kms    Diesel  "
      ]
     },
     "execution_count": 5,
     "metadata": {},
     "output_type": "execute_result"
    }
   ],
   "source": [
    "data.head()"
   ]
  },
  {
   "cell_type": "code",
   "execution_count": 6,
   "id": "6696577c",
   "metadata": {
    "ExecuteTime": {
     "end_time": "2024-01-03T18:49:36.697199Z",
     "start_time": "2024-01-03T18:49:36.609325Z"
    }
   },
   "outputs": [
    {
     "data": {
      "text/html": [
       "<div>\n",
       "<style scoped>\n",
       "    .dataframe tbody tr th:only-of-type {\n",
       "        vertical-align: middle;\n",
       "    }\n",
       "\n",
       "    .dataframe tbody tr th {\n",
       "        vertical-align: top;\n",
       "    }\n",
       "\n",
       "    .dataframe thead th {\n",
       "        text-align: right;\n",
       "    }\n",
       "</style>\n",
       "<table border=\"1\" class=\"dataframe\">\n",
       "  <thead>\n",
       "    <tr style=\"text-align: right;\">\n",
       "      <th></th>\n",
       "      <th>name</th>\n",
       "      <th>company</th>\n",
       "      <th>year</th>\n",
       "      <th>Price</th>\n",
       "      <th>kms_driven</th>\n",
       "      <th>fuel_type</th>\n",
       "    </tr>\n",
       "  </thead>\n",
       "  <tbody>\n",
       "    <tr>\n",
       "      <th>count</th>\n",
       "      <td>892</td>\n",
       "      <td>892</td>\n",
       "      <td>892</td>\n",
       "      <td>892</td>\n",
       "      <td>840</td>\n",
       "      <td>837</td>\n",
       "    </tr>\n",
       "    <tr>\n",
       "      <th>unique</th>\n",
       "      <td>525</td>\n",
       "      <td>48</td>\n",
       "      <td>61</td>\n",
       "      <td>274</td>\n",
       "      <td>258</td>\n",
       "      <td>3</td>\n",
       "    </tr>\n",
       "    <tr>\n",
       "      <th>top</th>\n",
       "      <td>Honda City</td>\n",
       "      <td>Maruti</td>\n",
       "      <td>2015</td>\n",
       "      <td>Ask For Price</td>\n",
       "      <td>45,000 kms</td>\n",
       "      <td>Petrol</td>\n",
       "    </tr>\n",
       "    <tr>\n",
       "      <th>freq</th>\n",
       "      <td>13</td>\n",
       "      <td>235</td>\n",
       "      <td>117</td>\n",
       "      <td>35</td>\n",
       "      <td>30</td>\n",
       "      <td>440</td>\n",
       "    </tr>\n",
       "  </tbody>\n",
       "</table>\n",
       "</div>"
      ],
      "text/plain": [
       "              name company  year          Price  kms_driven fuel_type\n",
       "count          892     892   892            892         840       837\n",
       "unique         525      48    61            274         258         3\n",
       "top     Honda City  Maruti  2015  Ask For Price  45,000 kms    Petrol\n",
       "freq            13     235   117             35          30       440"
      ]
     },
     "execution_count": 6,
     "metadata": {},
     "output_type": "execute_result"
    }
   ],
   "source": [
    "data.describe()"
   ]
  },
  {
   "cell_type": "code",
   "execution_count": 7,
   "id": "e68a246f",
   "metadata": {
    "ExecuteTime": {
     "end_time": "2024-01-03T18:49:36.870358Z",
     "start_time": "2024-01-03T18:49:36.854360Z"
    }
   },
   "outputs": [
    {
     "name": "stdout",
     "output_type": "stream",
     "text": [
      "<class 'pandas.core.frame.DataFrame'>\n",
      "RangeIndex: 892 entries, 0 to 891\n",
      "Data columns (total 6 columns):\n",
      " #   Column      Non-Null Count  Dtype \n",
      "---  ------      --------------  ----- \n",
      " 0   name        892 non-null    object\n",
      " 1   company     892 non-null    object\n",
      " 2   year        892 non-null    object\n",
      " 3   Price       892 non-null    object\n",
      " 4   kms_driven  840 non-null    object\n",
      " 5   fuel_type   837 non-null    object\n",
      "dtypes: object(6)\n",
      "memory usage: 41.9+ KB\n"
     ]
    }
   ],
   "source": [
    "data.info()"
   ]
  },
  {
   "cell_type": "code",
   "execution_count": 8,
   "id": "1779ba44",
   "metadata": {
    "ExecuteTime": {
     "end_time": "2024-01-03T18:49:37.084637Z",
     "start_time": "2024-01-03T18:49:37.058363Z"
    }
   },
   "outputs": [],
   "source": [
    "data.dropna(inplace=True)"
   ]
  },
  {
   "cell_type": "code",
   "execution_count": 9,
   "id": "aadbbc8c",
   "metadata": {
    "ExecuteTime": {
     "end_time": "2024-01-03T18:49:37.323150Z",
     "start_time": "2024-01-03T18:49:37.280064Z"
    }
   },
   "outputs": [
    {
     "name": "stdout",
     "output_type": "stream",
     "text": [
      "<class 'pandas.core.frame.DataFrame'>\n",
      "Index: 837 entries, 0 to 889\n",
      "Data columns (total 6 columns):\n",
      " #   Column      Non-Null Count  Dtype \n",
      "---  ------      --------------  ----- \n",
      " 0   name        837 non-null    object\n",
      " 1   company     837 non-null    object\n",
      " 2   year        837 non-null    object\n",
      " 3   Price       837 non-null    object\n",
      " 4   kms_driven  837 non-null    object\n",
      " 5   fuel_type   837 non-null    object\n",
      "dtypes: object(6)\n",
      "memory usage: 45.8+ KB\n"
     ]
    }
   ],
   "source": [
    "data.info()"
   ]
  },
  {
   "cell_type": "code",
   "execution_count": 10,
   "id": "cb94abcb",
   "metadata": {
    "ExecuteTime": {
     "end_time": "2024-01-03T18:49:37.540911Z",
     "start_time": "2024-01-03T18:49:37.512913Z"
    }
   },
   "outputs": [
    {
     "data": {
      "text/plain": [
       "Price\n",
       "Ask For Price    21\n",
       "2,50,000         16\n",
       "3,50,000         12\n",
       "4,00,000         11\n",
       "1,30,000         11\n",
       "                 ..\n",
       "7,49,999          1\n",
       "11,30,000         1\n",
       "10,74,999         1\n",
       "3,24,999          1\n",
       "5,00,001          1\n",
       "Name: count, Length: 273, dtype: int64"
      ]
     },
     "execution_count": 10,
     "metadata": {},
     "output_type": "execute_result"
    }
   ],
   "source": [
    "data['Price'].value_counts()"
   ]
  },
  {
   "cell_type": "code",
   "execution_count": 11,
   "id": "00aeed0a",
   "metadata": {
    "ExecuteTime": {
     "end_time": "2024-01-03T18:49:37.730113Z",
     "start_time": "2024-01-03T18:49:37.708936Z"
    }
   },
   "outputs": [
    {
     "data": {
      "text/plain": [
       "company\n",
       "Maruti        229\n",
       "Hyundai       143\n",
       "Mahindra       99\n",
       "Tata           67\n",
       "Honda          60\n",
       "Toyota         38\n",
       "Chevrolet      34\n",
       "Renault        34\n",
       "Ford           31\n",
       "Volkswagen     20\n",
       "Skoda          13\n",
       "Audi           11\n",
       "Datsun          8\n",
       "Mini            8\n",
       "BMW             8\n",
       "Mitsubishi      6\n",
       "Nissan          6\n",
       "Mercedes        6\n",
       "Fiat            4\n",
       "Force           4\n",
       "Hindustan       3\n",
       "Jaguar          2\n",
       "Land            1\n",
       "Jeep            1\n",
       "Volvo           1\n",
       "Name: count, dtype: int64"
      ]
     },
     "execution_count": 11,
     "metadata": {},
     "output_type": "execute_result"
    }
   ],
   "source": [
    "data['company'].value_counts()"
   ]
  },
  {
   "cell_type": "code",
   "execution_count": 12,
   "id": "0f9821f7",
   "metadata": {
    "ExecuteTime": {
     "end_time": "2024-01-03T18:49:37.970042Z",
     "start_time": "2024-01-03T18:49:37.931075Z"
    },
    "scrolled": true
   },
   "outputs": [
    {
     "data": {
      "text/plain": [
       "Price\n",
       "Ask For Price    21\n",
       "2,50,000         16\n",
       "3,50,000         12\n",
       "4,00,000         11\n",
       "1,30,000         11\n",
       "                 ..\n",
       "7,49,999          1\n",
       "11,30,000         1\n",
       "10,74,999         1\n",
       "3,24,999          1\n",
       "5,00,001          1\n",
       "Name: count, Length: 273, dtype: int64"
      ]
     },
     "execution_count": 12,
     "metadata": {},
     "output_type": "execute_result"
    }
   ],
   "source": [
    "data['Price'].value_counts()"
   ]
  },
  {
   "cell_type": "code",
   "execution_count": 13,
   "id": "66bb415a",
   "metadata": {
    "ExecuteTime": {
     "end_time": "2024-01-03T18:49:38.174911Z",
     "start_time": "2024-01-03T18:49:38.148397Z"
    }
   },
   "outputs": [
    {
     "data": {
      "text/plain": [
       "'\"Ask For Price in the above has no value it should be removed'"
      ]
     },
     "execution_count": 13,
     "metadata": {},
     "output_type": "execute_result"
    }
   ],
   "source": [
    "\"\"\"\"Ask For Price in the above has no value it should be removed\"\"\""
   ]
  },
  {
   "cell_type": "code",
   "execution_count": 14,
   "id": "41bb535d",
   "metadata": {
    "ExecuteTime": {
     "end_time": "2024-01-03T18:49:38.385843Z",
     "start_time": "2024-01-03T18:49:38.368180Z"
    }
   },
   "outputs": [
    {
     "data": {
      "text/plain": [
       "kms_driven\n",
       "45,000 kms      30\n",
       "35,000 kms      30\n",
       "55,000 kms      25\n",
       "50,000 kms      23\n",
       "20,000 kms      22\n",
       "                ..\n",
       "59,466 kms       1\n",
       "25,500 kms       1\n",
       "44,005 kms       1\n",
       "2,110 kms        1\n",
       "1,32,000 kms     1\n",
       "Name: count, Length: 256, dtype: int64"
      ]
     },
     "execution_count": 14,
     "metadata": {},
     "output_type": "execute_result"
    }
   ],
   "source": [
    "data['kms_driven'].value_counts()"
   ]
  },
  {
   "cell_type": "code",
   "execution_count": 15,
   "id": "f791e970",
   "metadata": {
    "ExecuteTime": {
     "end_time": "2024-01-03T18:49:38.649809Z",
     "start_time": "2024-01-03T18:49:38.624521Z"
    }
   },
   "outputs": [
    {
     "data": {
      "text/plain": [
       "fuel_type\n",
       "Petrol    440\n",
       "Diesel    395\n",
       "LPG         2\n",
       "Name: count, dtype: int64"
      ]
     },
     "execution_count": 15,
     "metadata": {},
     "output_type": "execute_result"
    }
   ],
   "source": [
    "data['fuel_type'].value_counts()"
   ]
  },
  {
   "cell_type": "code",
   "execution_count": 16,
   "id": "a0b5fe75",
   "metadata": {
    "ExecuteTime": {
     "end_time": "2024-01-03T18:49:38.864607Z",
     "start_time": "2024-01-03T18:49:38.833806Z"
    }
   },
   "outputs": [],
   "source": [
    "#removing the 'Ask for Price value'\n",
    "data=data[~data['Price'].str.contains('Ask For Price')]"
   ]
  },
  {
   "cell_type": "code",
   "execution_count": 17,
   "id": "fb28bd5f",
   "metadata": {
    "ExecuteTime": {
     "end_time": "2024-01-03T18:49:39.116985Z",
     "start_time": "2024-01-03T18:49:39.072651Z"
    }
   },
   "outputs": [
    {
     "name": "stdout",
     "output_type": "stream",
     "text": [
      "<class 'pandas.core.frame.DataFrame'>\n",
      "Index: 816 entries, 0 to 889\n",
      "Data columns (total 6 columns):\n",
      " #   Column      Non-Null Count  Dtype \n",
      "---  ------      --------------  ----- \n",
      " 0   name        816 non-null    object\n",
      " 1   company     816 non-null    object\n",
      " 2   year        816 non-null    object\n",
      " 3   Price       816 non-null    object\n",
      " 4   kms_driven  816 non-null    object\n",
      " 5   fuel_type   816 non-null    object\n",
      "dtypes: object(6)\n",
      "memory usage: 44.6+ KB\n"
     ]
    }
   ],
   "source": [
    "data.info()"
   ]
  },
  {
   "cell_type": "code",
   "execution_count": 18,
   "id": "e5b6f20a",
   "metadata": {
    "ExecuteTime": {
     "end_time": "2024-01-03T18:49:39.330362Z",
     "start_time": "2024-01-03T18:49:39.300959Z"
    }
   },
   "outputs": [
    {
     "data": {
      "text/plain": [
       "Price\n",
       "2,50,000     16\n",
       "3,50,000     12\n",
       "4,00,000     11\n",
       "1,30,000     11\n",
       "2,10,000     10\n",
       "             ..\n",
       "7,49,999      1\n",
       "11,30,000     1\n",
       "10,74,999     1\n",
       "3,24,999      1\n",
       "5,00,001      1\n",
       "Name: count, Length: 272, dtype: int64"
      ]
     },
     "execution_count": 18,
     "metadata": {},
     "output_type": "execute_result"
    }
   ],
   "source": [
    "data['Price'].value_counts()"
   ]
  },
  {
   "cell_type": "code",
   "execution_count": 19,
   "id": "75734e33",
   "metadata": {
    "ExecuteTime": {
     "end_time": "2024-01-03T18:49:39.951154Z",
     "start_time": "2024-01-03T18:49:39.905852Z"
    }
   },
   "outputs": [],
   "source": [
    "data['kms_driven']=data['kms_driven'].apply(lambda x:x.strip(' kms'))\n",
    "data=data.apply(lambda x:x.str.replace(',',''))"
   ]
  },
  {
   "cell_type": "code",
   "execution_count": 20,
   "id": "968f6804",
   "metadata": {
    "ExecuteTime": {
     "end_time": "2024-01-03T18:49:40.557086Z",
     "start_time": "2024-01-03T18:49:40.513093Z"
    }
   },
   "outputs": [
    {
     "data": {
      "text/html": [
       "<div>\n",
       "<style scoped>\n",
       "    .dataframe tbody tr th:only-of-type {\n",
       "        vertical-align: middle;\n",
       "    }\n",
       "\n",
       "    .dataframe tbody tr th {\n",
       "        vertical-align: top;\n",
       "    }\n",
       "\n",
       "    .dataframe thead th {\n",
       "        text-align: right;\n",
       "    }\n",
       "</style>\n",
       "<table border=\"1\" class=\"dataframe\">\n",
       "  <thead>\n",
       "    <tr style=\"text-align: right;\">\n",
       "      <th></th>\n",
       "      <th>name</th>\n",
       "      <th>company</th>\n",
       "      <th>year</th>\n",
       "      <th>Price</th>\n",
       "      <th>kms_driven</th>\n",
       "      <th>fuel_type</th>\n",
       "    </tr>\n",
       "  </thead>\n",
       "  <tbody>\n",
       "    <tr>\n",
       "      <th>0</th>\n",
       "      <td>Hyundai Santro Xing XO eRLX Euro III</td>\n",
       "      <td>Hyundai</td>\n",
       "      <td>2007</td>\n",
       "      <td>80000</td>\n",
       "      <td>45000</td>\n",
       "      <td>Petrol</td>\n",
       "    </tr>\n",
       "    <tr>\n",
       "      <th>1</th>\n",
       "      <td>Mahindra Jeep CL550 MDI</td>\n",
       "      <td>Mahindra</td>\n",
       "      <td>2006</td>\n",
       "      <td>425000</td>\n",
       "      <td>40</td>\n",
       "      <td>Diesel</td>\n",
       "    </tr>\n",
       "    <tr>\n",
       "      <th>3</th>\n",
       "      <td>Hyundai Grand i10 Magna 1.2 Kappa VTVT</td>\n",
       "      <td>Hyundai</td>\n",
       "      <td>2014</td>\n",
       "      <td>325000</td>\n",
       "      <td>28000</td>\n",
       "      <td>Petrol</td>\n",
       "    </tr>\n",
       "    <tr>\n",
       "      <th>4</th>\n",
       "      <td>Ford EcoSport Titanium 1.5L TDCi</td>\n",
       "      <td>Ford</td>\n",
       "      <td>2014</td>\n",
       "      <td>575000</td>\n",
       "      <td>36000</td>\n",
       "      <td>Diesel</td>\n",
       "    </tr>\n",
       "    <tr>\n",
       "      <th>6</th>\n",
       "      <td>Ford Figo</td>\n",
       "      <td>Ford</td>\n",
       "      <td>2012</td>\n",
       "      <td>175000</td>\n",
       "      <td>41000</td>\n",
       "      <td>Diesel</td>\n",
       "    </tr>\n",
       "  </tbody>\n",
       "</table>\n",
       "</div>"
      ],
      "text/plain": [
       "                                     name   company  year   Price kms_driven  \\\n",
       "0    Hyundai Santro Xing XO eRLX Euro III   Hyundai  2007   80000      45000   \n",
       "1                 Mahindra Jeep CL550 MDI  Mahindra  2006  425000         40   \n",
       "3  Hyundai Grand i10 Magna 1.2 Kappa VTVT   Hyundai  2014  325000      28000   \n",
       "4        Ford EcoSport Titanium 1.5L TDCi      Ford  2014  575000      36000   \n",
       "6                               Ford Figo      Ford  2012  175000      41000   \n",
       "\n",
       "  fuel_type  \n",
       "0    Petrol  \n",
       "1    Diesel  \n",
       "3    Petrol  \n",
       "4    Diesel  \n",
       "6    Diesel  "
      ]
     },
     "execution_count": 20,
     "metadata": {},
     "output_type": "execute_result"
    }
   ],
   "source": [
    "data.head()"
   ]
  },
  {
   "cell_type": "markdown",
   "id": "3d55b811",
   "metadata": {},
   "source": [
    "# convert the essential column datatypes to the integer and for the convienience change the year to the no of years taken"
   ]
  },
  {
   "cell_type": "code",
   "execution_count": 21,
   "id": "daa55e66",
   "metadata": {
    "ExecuteTime": {
     "end_time": "2024-01-03T18:49:41.231568Z",
     "start_time": "2024-01-03T18:49:41.210404Z"
    }
   },
   "outputs": [],
   "source": [
    "data[['year', 'Price', 'kms_driven']]=data[['year', 'Price', 'kms_driven']].astype('int')"
   ]
  },
  {
   "cell_type": "code",
   "execution_count": 22,
   "id": "5f8c990d",
   "metadata": {
    "ExecuteTime": {
     "end_time": "2024-01-03T18:49:41.560857Z",
     "start_time": "2024-01-03T18:49:41.524931Z"
    }
   },
   "outputs": [
    {
     "name": "stdout",
     "output_type": "stream",
     "text": [
      "<class 'pandas.core.frame.DataFrame'>\n",
      "Index: 816 entries, 0 to 889\n",
      "Data columns (total 6 columns):\n",
      " #   Column      Non-Null Count  Dtype \n",
      "---  ------      --------------  ----- \n",
      " 0   name        816 non-null    object\n",
      " 1   company     816 non-null    object\n",
      " 2   year        816 non-null    int32 \n",
      " 3   Price       816 non-null    int32 \n",
      " 4   kms_driven  816 non-null    int32 \n",
      " 5   fuel_type   816 non-null    object\n",
      "dtypes: int32(3), object(3)\n",
      "memory usage: 35.1+ KB\n"
     ]
    }
   ],
   "source": [
    "data.info()"
   ]
  },
  {
   "cell_type": "code",
   "execution_count": 23,
   "id": "6172c168",
   "metadata": {
    "ExecuteTime": {
     "end_time": "2024-01-03T18:49:41.778855Z",
     "start_time": "2024-01-03T18:49:41.746824Z"
    }
   },
   "outputs": [],
   "source": [
    "#this is done by subtracting the current year and the minimum year and adding by 1\n",
    "data['duration']=data['year']-data['year'].min()+1"
   ]
  },
  {
   "cell_type": "code",
   "execution_count": 24,
   "id": "bfd99e61",
   "metadata": {
    "ExecuteTime": {
     "end_time": "2024-01-03T18:49:43.120729Z",
     "start_time": "2024-01-03T18:49:43.078764Z"
    }
   },
   "outputs": [
    {
     "data": {
      "text/html": [
       "<div>\n",
       "<style scoped>\n",
       "    .dataframe tbody tr th:only-of-type {\n",
       "        vertical-align: middle;\n",
       "    }\n",
       "\n",
       "    .dataframe tbody tr th {\n",
       "        vertical-align: top;\n",
       "    }\n",
       "\n",
       "    .dataframe thead th {\n",
       "        text-align: right;\n",
       "    }\n",
       "</style>\n",
       "<table border=\"1\" class=\"dataframe\">\n",
       "  <thead>\n",
       "    <tr style=\"text-align: right;\">\n",
       "      <th></th>\n",
       "      <th>name</th>\n",
       "      <th>company</th>\n",
       "      <th>year</th>\n",
       "      <th>Price</th>\n",
       "      <th>kms_driven</th>\n",
       "      <th>fuel_type</th>\n",
       "      <th>duration</th>\n",
       "    </tr>\n",
       "  </thead>\n",
       "  <tbody>\n",
       "    <tr>\n",
       "      <th>0</th>\n",
       "      <td>Hyundai Santro Xing XO eRLX Euro III</td>\n",
       "      <td>Hyundai</td>\n",
       "      <td>2007</td>\n",
       "      <td>80000</td>\n",
       "      <td>45000</td>\n",
       "      <td>Petrol</td>\n",
       "      <td>13</td>\n",
       "    </tr>\n",
       "    <tr>\n",
       "      <th>1</th>\n",
       "      <td>Mahindra Jeep CL550 MDI</td>\n",
       "      <td>Mahindra</td>\n",
       "      <td>2006</td>\n",
       "      <td>425000</td>\n",
       "      <td>40</td>\n",
       "      <td>Diesel</td>\n",
       "      <td>12</td>\n",
       "    </tr>\n",
       "    <tr>\n",
       "      <th>3</th>\n",
       "      <td>Hyundai Grand i10 Magna 1.2 Kappa VTVT</td>\n",
       "      <td>Hyundai</td>\n",
       "      <td>2014</td>\n",
       "      <td>325000</td>\n",
       "      <td>28000</td>\n",
       "      <td>Petrol</td>\n",
       "      <td>20</td>\n",
       "    </tr>\n",
       "    <tr>\n",
       "      <th>4</th>\n",
       "      <td>Ford EcoSport Titanium 1.5L TDCi</td>\n",
       "      <td>Ford</td>\n",
       "      <td>2014</td>\n",
       "      <td>575000</td>\n",
       "      <td>36000</td>\n",
       "      <td>Diesel</td>\n",
       "      <td>20</td>\n",
       "    </tr>\n",
       "    <tr>\n",
       "      <th>6</th>\n",
       "      <td>Ford Figo</td>\n",
       "      <td>Ford</td>\n",
       "      <td>2012</td>\n",
       "      <td>175000</td>\n",
       "      <td>41000</td>\n",
       "      <td>Diesel</td>\n",
       "      <td>18</td>\n",
       "    </tr>\n",
       "  </tbody>\n",
       "</table>\n",
       "</div>"
      ],
      "text/plain": [
       "                                     name   company  year   Price  kms_driven  \\\n",
       "0    Hyundai Santro Xing XO eRLX Euro III   Hyundai  2007   80000       45000   \n",
       "1                 Mahindra Jeep CL550 MDI  Mahindra  2006  425000          40   \n",
       "3  Hyundai Grand i10 Magna 1.2 Kappa VTVT   Hyundai  2014  325000       28000   \n",
       "4        Ford EcoSport Titanium 1.5L TDCi      Ford  2014  575000       36000   \n",
       "6                               Ford Figo      Ford  2012  175000       41000   \n",
       "\n",
       "  fuel_type  duration  \n",
       "0    Petrol        13  \n",
       "1    Diesel        12  \n",
       "3    Petrol        20  \n",
       "4    Diesel        20  \n",
       "6    Diesel        18  "
      ]
     },
     "execution_count": 24,
     "metadata": {},
     "output_type": "execute_result"
    }
   ],
   "source": [
    "data.head()"
   ]
  },
  {
   "cell_type": "markdown",
   "id": "be0fadd6",
   "metadata": {},
   "source": [
    "# observing the relationships  "
   ]
  },
  {
   "cell_type": "code",
   "execution_count": 25,
   "id": "b27562c8",
   "metadata": {
    "ExecuteTime": {
     "end_time": "2024-01-03T18:49:50.696418Z",
     "start_time": "2024-01-03T18:49:44.549225Z"
    },
    "scrolled": true
   },
   "outputs": [
    {
     "data": {
      "text/plain": [
       "Text(0.5, 1.0, 'fuel_type vs price')"
      ]
     },
     "execution_count": 25,
     "metadata": {},
     "output_type": "execute_result"
    },
    {
     "data": {
      "image/png": "[encoded data removed]",
      "text/plain": [
       "<Figure size 3000x1000 with 1 Axes>"
      ]
     },
     "metadata": {},
     "output_type": "display_data"
    },
    {
     "data": {
      "image/png": "[encoded data removed]",
      "text/plain": [
       "<Figure size 1200x400 with 2 Axes>"
      ]
     },
     "metadata": {},
     "output_type": "display_data"
    }
   ],
   "source": [
    "#observing via the bargraphs and the scatterplot\n",
    "from matplotlib import style\n",
    "style.use('ggplot')\n",
    "style.use('dark_background')\n",
    "plt.figure(figsize=(30,10))\n",
    "plt.bar(data['company'],data['Price'],color='lightgreen')\n",
    "plt.xlabel('company')\n",
    "plt.ylabel('cost')\n",
    "plt.title('Price vs Company')\n",
    "fig,axis=plt.subplots(nrows=1,ncols=2)\n",
    "fig.set_size_inches(12,4)\n",
    "axis[0].bar(data.year,data.Price)\n",
    "axis[0].set_xlabel('Year')\n",
    "axis[0].set_ylabel('Price')\n",
    "axis[0].set_title('Price vs Km_driven')\n",
    "axis[1].bar(data.fuel_type,data.Price,color='orange')\n",
    "axis[1].set_xlabel('fuel_type')\n",
    "axis[1].set_ylabel('price')\n",
    "axis[1].set_title('fuel_type vs price')"
   ]
  },
  {
   "cell_type": "code",
   "execution_count": 26,
   "id": "92e51450",
   "metadata": {
    "ExecuteTime": {
     "end_time": "2024-01-03T18:49:50.951536Z",
     "start_time": "2024-01-03T18:49:50.712418Z"
    }
   },
   "outputs": [
    {
     "data": {
      "text/plain": [
       "<Axes: ylabel='Price'>"
      ]
     },
     "execution_count": 26,
     "metadata": {},
     "output_type": "execute_result"
    },
    {
     "data": {
      "image/png": "[encoded data removed]",
      "text/plain": [
       "<Figure size 640x480 with 1 Axes>"
      ]
     },
     "metadata": {},
     "output_type": "display_data"
    }
   ],
   "source": [
    "sbn.scatterplot(data.Price,color='red')"
   ]
  },
  {
   "cell_type": "markdown",
   "id": "ae073387",
   "metadata": {},
   "source": [
    "# checking the outliers with the help of the boxplot"
   ]
  },
  {
   "cell_type": "code",
   "execution_count": 27,
   "id": "090bdcb3",
   "metadata": {
    "ExecuteTime": {
     "end_time": "2024-01-03T18:49:51.284463Z",
     "start_time": "2024-01-03T18:49:50.987498Z"
    }
   },
   "outputs": [
    {
     "data": {
      "text/plain": [
       "<Axes: >"
      ]
     },
     "execution_count": 27,
     "metadata": {},
     "output_type": "execute_result"
    },
    {
     "data": {
      "image/png": "[encoded data removed]",
      "text/plain": [
       "<Figure size 640x480 with 1 Axes>"
      ]
     },
     "metadata": {},
     "output_type": "display_data"
    }
   ],
   "source": [
    "sbn.boxplot(data=data[['Price', 'kms_driven','duration']])"
   ]
  },
  {
   "cell_type": "code",
   "execution_count": 28,
   "id": "f594de95",
   "metadata": {
    "ExecuteTime": {
     "end_time": "2024-01-03T18:49:51.315537Z",
     "start_time": "2024-01-03T18:49:51.300495Z"
    }
   },
   "outputs": [
    {
     "data": {
      "text/plain": [
       "Index(['name', 'company', 'year', 'Price', 'kms_driven', 'fuel_type',\n",
       "       'duration'],\n",
       "      dtype='object')"
      ]
     },
     "execution_count": 28,
     "metadata": {},
     "output_type": "execute_result"
    }
   ],
   "source": [
    "data.columns"
   ]
  },
  {
   "cell_type": "code",
   "execution_count": 29,
   "id": "f7b7d3eb",
   "metadata": {
    "ExecuteTime": {
     "end_time": "2024-01-03T18:49:51.347711Z",
     "start_time": "2024-01-03T18:49:51.331539Z"
    }
   },
   "outputs": [],
   "source": [
    "#defining function to remove the outliers\n",
    "def remove_outliers_iqr(data):\n",
    "    Q1 = data.quantile(0.25)\n",
    "    Q3 = data.quantile(0.75)\n",
    "    IQR = Q3 - Q1\n",
    "\n",
    "    lower_bound = Q1 - 1.5 * IQR\n",
    "    upper_bound = Q3 + 1.5 * IQR\n",
    "    return data[(data>= lower_bound) & (data<= upper_bound)]"
   ]
  },
  {
   "cell_type": "code",
   "execution_count": 30,
   "id": "fce300f9",
   "metadata": {
    "ExecuteTime": {
     "end_time": "2024-01-03T18:49:51.379768Z",
     "start_time": "2024-01-03T18:49:51.363693Z"
    }
   },
   "outputs": [],
   "source": [
    "modified_data=remove_outliers_iqr(data[['Price', 'kms_driven','duration']])"
   ]
  },
  {
   "cell_type": "code",
   "execution_count": 31,
   "id": "d2b5b0e7",
   "metadata": {
    "ExecuteTime": {
     "end_time": "2024-01-03T18:49:51.571539Z",
     "start_time": "2024-01-03T18:49:51.395540Z"
    }
   },
   "outputs": [
    {
     "data": {
      "text/plain": [
       "<Axes: >"
      ]
     },
     "execution_count": 31,
     "metadata": {},
     "output_type": "execute_result"
    },
    {
     "data": {
      "image/png": "[encoded data removed]",
      "text/plain": [
       "<Figure size 640x480 with 1 Axes>"
      ]
     },
     "metadata": {},
     "output_type": "display_data"
    }
   ],
   "source": [
    "sbn.boxplot(modified_data[['Price', 'kms_driven','duration']])"
   ]
  },
  {
   "cell_type": "code",
   "execution_count": 32,
   "id": "517de163",
   "metadata": {
    "ExecuteTime": {
     "end_time": "2024-01-03T18:49:51.634160Z",
     "start_time": "2024-01-03T18:49:51.611541Z"
    }
   },
   "outputs": [],
   "source": [
    "data[['Price', 'kms_driven','duration(in_years)']]=modified_data[['Price', 'kms_driven','duration']]"
   ]
  },
  {
   "cell_type": "code",
   "execution_count": 33,
   "id": "36b3ac0b",
   "metadata": {
    "ExecuteTime": {
     "end_time": "2024-01-03T18:49:53.137864Z",
     "start_time": "2024-01-03T18:49:53.047681Z"
    }
   },
   "outputs": [
    {
     "data": {
      "text/html": [
       "<div>\n",
       "<style scoped>\n",
       "    .dataframe tbody tr th:only-of-type {\n",
       "        vertical-align: middle;\n",
       "    }\n",
       "\n",
       "    .dataframe tbody tr th {\n",
       "        vertical-align: top;\n",
       "    }\n",
       "\n",
       "    .dataframe thead th {\n",
       "        text-align: right;\n",
       "    }\n",
       "</style>\n",
       "<table border=\"1\" class=\"dataframe\">\n",
       "  <thead>\n",
       "    <tr style=\"text-align: right;\">\n",
       "      <th></th>\n",
       "      <th>year</th>\n",
       "      <th>Price</th>\n",
       "      <th>kms_driven</th>\n",
       "      <th>duration</th>\n",
       "      <th>duration(in_years)</th>\n",
       "    </tr>\n",
       "  </thead>\n",
       "  <tbody>\n",
       "    <tr>\n",
       "      <th>count</th>\n",
       "      <td>816.000000</td>\n",
       "      <td>763.000000</td>\n",
       "      <td>773.000000</td>\n",
       "      <td>816.000000</td>\n",
       "      <td>798.000000</td>\n",
       "    </tr>\n",
       "    <tr>\n",
       "      <th>mean</th>\n",
       "      <td>2012.444853</td>\n",
       "      <td>323057.254260</td>\n",
       "      <td>40683.598965</td>\n",
       "      <td>18.444853</td>\n",
       "      <td>18.721805</td>\n",
       "    </tr>\n",
       "    <tr>\n",
       "      <th>std</th>\n",
       "      <td>4.002992</td>\n",
       "      <td>202836.856649</td>\n",
       "      <td>22700.348976</td>\n",
       "      <td>4.002992</td>\n",
       "      <td>3.579925</td>\n",
       "    </tr>\n",
       "    <tr>\n",
       "      <th>min</th>\n",
       "      <td>1995.000000</td>\n",
       "      <td>30000.000000</td>\n",
       "      <td>0.000000</td>\n",
       "      <td>1.000000</td>\n",
       "      <td>9.000000</td>\n",
       "    </tr>\n",
       "    <tr>\n",
       "      <th>25%</th>\n",
       "      <td>2010.000000</td>\n",
       "      <td>165000.000000</td>\n",
       "      <td>25000.000000</td>\n",
       "      <td>16.000000</td>\n",
       "      <td>17.000000</td>\n",
       "    </tr>\n",
       "    <tr>\n",
       "      <th>50%</th>\n",
       "      <td>2013.000000</td>\n",
       "      <td>280000.000000</td>\n",
       "      <td>40000.000000</td>\n",
       "      <td>19.000000</td>\n",
       "      <td>19.000000</td>\n",
       "    </tr>\n",
       "    <tr>\n",
       "      <th>75%</th>\n",
       "      <td>2015.000000</td>\n",
       "      <td>444999.000000</td>\n",
       "      <td>55000.000000</td>\n",
       "      <td>21.000000</td>\n",
       "      <td>21.000000</td>\n",
       "    </tr>\n",
       "    <tr>\n",
       "      <th>max</th>\n",
       "      <td>2019.000000</td>\n",
       "      <td>950000.000000</td>\n",
       "      <td>100800.000000</td>\n",
       "      <td>25.000000</td>\n",
       "      <td>25.000000</td>\n",
       "    </tr>\n",
       "  </tbody>\n",
       "</table>\n",
       "</div>"
      ],
      "text/plain": [
       "              year          Price     kms_driven    duration  \\\n",
       "count   816.000000     763.000000     773.000000  816.000000   \n",
       "mean   2012.444853  323057.254260   40683.598965   18.444853   \n",
       "std       4.002992  202836.856649   22700.348976    4.002992   \n",
       "min    1995.000000   30000.000000       0.000000    1.000000   \n",
       "25%    2010.000000  165000.000000   25000.000000   16.000000   \n",
       "50%    2013.000000  280000.000000   40000.000000   19.000000   \n",
       "75%    2015.000000  444999.000000   55000.000000   21.000000   \n",
       "max    2019.000000  950000.000000  100800.000000   25.000000   \n",
       "\n",
       "       duration(in_years)  \n",
       "count          798.000000  \n",
       "mean            18.721805  \n",
       "std              3.579925  \n",
       "min              9.000000  \n",
       "25%             17.000000  \n",
       "50%             19.000000  \n",
       "75%             21.000000  \n",
       "max             25.000000  "
      ]
     },
     "execution_count": 33,
     "metadata": {},
     "output_type": "execute_result"
    }
   ],
   "source": [
    "data.describe()"
   ]
  },
  {
   "cell_type": "code",
   "execution_count": 34,
   "id": "694828b1",
   "metadata": {
    "ExecuteTime": {
     "end_time": "2024-01-03T18:49:54.112741Z",
     "start_time": "2024-01-03T18:49:54.093242Z"
    }
   },
   "outputs": [],
   "source": [
    "data.dropna(inplace=True)"
   ]
  },
  {
   "cell_type": "code",
   "execution_count": 35,
   "id": "9b6b7749",
   "metadata": {
    "ExecuteTime": {
     "end_time": "2024-01-03T18:49:54.923583Z",
     "start_time": "2024-01-03T18:49:54.846392Z"
    }
   },
   "outputs": [
    {
     "data": {
      "text/html": [
       "<div>\n",
       "<style scoped>\n",
       "    .dataframe tbody tr th:only-of-type {\n",
       "        vertical-align: middle;\n",
       "    }\n",
       "\n",
       "    .dataframe tbody tr th {\n",
       "        vertical-align: top;\n",
       "    }\n",
       "\n",
       "    .dataframe thead th {\n",
       "        text-align: right;\n",
       "    }\n",
       "</style>\n",
       "<table border=\"1\" class=\"dataframe\">\n",
       "  <thead>\n",
       "    <tr style=\"text-align: right;\">\n",
       "      <th></th>\n",
       "      <th>year</th>\n",
       "      <th>Price</th>\n",
       "      <th>kms_driven</th>\n",
       "      <th>duration</th>\n",
       "      <th>duration(in_years)</th>\n",
       "    </tr>\n",
       "  </thead>\n",
       "  <tbody>\n",
       "    <tr>\n",
       "      <th>count</th>\n",
       "      <td>706.000000</td>\n",
       "      <td>706.000000</td>\n",
       "      <td>706.000000</td>\n",
       "      <td>706.000000</td>\n",
       "      <td>706.000000</td>\n",
       "    </tr>\n",
       "    <tr>\n",
       "      <th>mean</th>\n",
       "      <td>2012.572238</td>\n",
       "      <td>330638.997167</td>\n",
       "      <td>41047.399433</td>\n",
       "      <td>18.572238</td>\n",
       "      <td>18.572238</td>\n",
       "    </tr>\n",
       "    <tr>\n",
       "      <th>std</th>\n",
       "      <td>3.596061</td>\n",
       "      <td>201848.168953</td>\n",
       "      <td>22515.410854</td>\n",
       "      <td>3.596061</td>\n",
       "      <td>3.596061</td>\n",
       "    </tr>\n",
       "    <tr>\n",
       "      <th>min</th>\n",
       "      <td>2003.000000</td>\n",
       "      <td>32000.000000</td>\n",
       "      <td>0.000000</td>\n",
       "      <td>9.000000</td>\n",
       "      <td>9.000000</td>\n",
       "    </tr>\n",
       "    <tr>\n",
       "      <th>25%</th>\n",
       "      <td>2010.000000</td>\n",
       "      <td>175000.000000</td>\n",
       "      <td>25750.000000</td>\n",
       "      <td>16.000000</td>\n",
       "      <td>16.000000</td>\n",
       "    </tr>\n",
       "    <tr>\n",
       "      <th>50%</th>\n",
       "      <td>2013.000000</td>\n",
       "      <td>285000.000000</td>\n",
       "      <td>40000.000000</td>\n",
       "      <td>19.000000</td>\n",
       "      <td>19.000000</td>\n",
       "    </tr>\n",
       "    <tr>\n",
       "      <th>75%</th>\n",
       "      <td>2015.000000</td>\n",
       "      <td>449999.000000</td>\n",
       "      <td>55000.000000</td>\n",
       "      <td>21.000000</td>\n",
       "      <td>21.000000</td>\n",
       "    </tr>\n",
       "    <tr>\n",
       "      <th>max</th>\n",
       "      <td>2019.000000</td>\n",
       "      <td>950000.000000</td>\n",
       "      <td>100800.000000</td>\n",
       "      <td>25.000000</td>\n",
       "      <td>25.000000</td>\n",
       "    </tr>\n",
       "  </tbody>\n",
       "</table>\n",
       "</div>"
      ],
      "text/plain": [
       "              year          Price     kms_driven    duration  \\\n",
       "count   706.000000     706.000000     706.000000  706.000000   \n",
       "mean   2012.572238  330638.997167   41047.399433   18.572238   \n",
       "std       3.596061  201848.168953   22515.410854    3.596061   \n",
       "min    2003.000000   32000.000000       0.000000    9.000000   \n",
       "25%    2010.000000  175000.000000   25750.000000   16.000000   \n",
       "50%    2013.000000  285000.000000   40000.000000   19.000000   \n",
       "75%    2015.000000  449999.000000   55000.000000   21.000000   \n",
       "max    2019.000000  950000.000000  100800.000000   25.000000   \n",
       "\n",
       "       duration(in_years)  \n",
       "count          706.000000  \n",
       "mean            18.572238  \n",
       "std              3.596061  \n",
       "min              9.000000  \n",
       "25%             16.000000  \n",
       "50%             19.000000  \n",
       "75%             21.000000  \n",
       "max             25.000000  "
      ]
     },
     "execution_count": 35,
     "metadata": {},
     "output_type": "execute_result"
    }
   ],
   "source": [
    "data.describe()"
   ]
  },
  {
   "cell_type": "code",
   "execution_count": 36,
   "id": "b78ca9b5",
   "metadata": {
    "ExecuteTime": {
     "end_time": "2024-01-03T18:49:55.687170Z",
     "start_time": "2024-01-03T18:49:55.644966Z"
    }
   },
   "outputs": [
    {
     "name": "stdout",
     "output_type": "stream",
     "text": [
      "<class 'pandas.core.frame.DataFrame'>\n",
      "Index: 706 entries, 0 to 889\n",
      "Data columns (total 8 columns):\n",
      " #   Column              Non-Null Count  Dtype  \n",
      "---  ------              --------------  -----  \n",
      " 0   name                706 non-null    object \n",
      " 1   company             706 non-null    object \n",
      " 2   year                706 non-null    int32  \n",
      " 3   Price               706 non-null    float64\n",
      " 4   kms_driven          706 non-null    float64\n",
      " 5   fuel_type           706 non-null    object \n",
      " 6   duration            706 non-null    int32  \n",
      " 7   duration(in_years)  706 non-null    float64\n",
      "dtypes: float64(3), int32(2), object(3)\n",
      "memory usage: 44.1+ KB\n"
     ]
    }
   ],
   "source": [
    "data.info()"
   ]
  },
  {
   "cell_type": "code",
   "execution_count": null,
   "id": "1131b244",
   "metadata": {},
   "outputs": [],
   "source": []
  },
  {
   "cell_type": "code",
   "execution_count": null,
   "id": "aab544c9",
   "metadata": {},
   "outputs": [],
   "source": []
  },
  {
   "cell_type": "markdown",
   "id": "068f71ef",
   "metadata": {},
   "source": [
    "# Using OLS to interpret the relationship of Price with other parameter"
   ]
  },
  {
   "cell_type": "code",
   "execution_count": 37,
   "id": "dd87e03a",
   "metadata": {
    "ExecuteTime": {
     "end_time": "2024-01-03T18:50:01.097740Z",
     "start_time": "2024-01-03T18:49:59.447983Z"
    }
   },
   "outputs": [],
   "source": [
    "import statsmodels.api as sm\n",
    "from statsmodels.formula.api import ols"
   ]
  },
  {
   "cell_type": "code",
   "execution_count": 38,
   "id": "4c3b5925",
   "metadata": {
    "ExecuteTime": {
     "end_time": "2024-01-03T18:50:01.145685Z",
     "start_time": "2024-01-03T18:50:01.113714Z"
    }
   },
   "outputs": [
    {
     "name": "stdout",
     "output_type": "stream",
     "text": [
      "                            OLS Regression Results                            \n",
      "==============================================================================\n",
      "Dep. Variable:                  Price   R-squared:                       0.020\n",
      "Model:                            OLS   Adj. R-squared:                  0.019\n",
      "Method:                 Least Squares   F-statistic:                     14.52\n",
      "Date:                Thu, 04 Jan 2024   Prob (F-statistic):           0.000151\n",
      "Time:                        00:20:01   Log-Likelihood:                -9618.0\n",
      "No. Observations:                 706   AIC:                         1.924e+04\n",
      "Df Residuals:                     704   BIC:                         1.925e+04\n",
      "Df Model:                           1                                         \n",
      "Covariance Type:            nonrobust                                         \n",
      "==============================================================================\n",
      "                 coef    std err          t      P>|t|      [0.025      0.975]\n",
      "------------------------------------------------------------------------------\n",
      "Intercept   3.829e+05   1.57e+04     24.461      0.000    3.52e+05    4.14e+05\n",
      "kms_driven    -1.2742      0.334     -3.810      0.000      -1.931      -0.618\n",
      "==============================================================================\n",
      "Omnibus:                       88.341   Durbin-Watson:                   1.684\n",
      "Prob(Omnibus):                  0.000   Jarque-Bera (JB):              119.427\n",
      "Skew:                           0.962   Prob(JB):                     1.17e-26\n",
      "Kurtosis:                       3.598   Cond. No.                     9.74e+04\n",
      "==============================================================================\n",
      "\n",
      "Notes:\n",
      "[1] Standard Errors assume that the covariance matrix of the errors is correctly specified.\n",
      "[2] The condition number is large, 9.74e+04. This might indicate that there are\n",
      "strong multicollinearity or other numerical problems.\n"
     ]
    }
   ],
   "source": [
    "#relationship between the kms_driven and the price\n",
    "price_kms_driven=ols('Price~kms_driven',data=data).fit()\n",
    "print(price_kms_driven.summary())"
   ]
  },
  {
   "cell_type": "code",
   "execution_count": 39,
   "id": "c9e46f98",
   "metadata": {
    "ExecuteTime": {
     "end_time": "2024-01-03T18:50:01.206259Z",
     "start_time": "2024-01-03T18:50:01.161730Z"
    }
   },
   "outputs": [
    {
     "name": "stdout",
     "output_type": "stream",
     "text": [
      "                            OLS Regression Results                            \n",
      "==============================================================================\n",
      "Dep. Variable:                  Price   R-squared:                       0.276\n",
      "Model:                            OLS   Adj. R-squared:                  0.275\n",
      "Method:                 Least Squares   F-statistic:                     268.8\n",
      "Date:                Thu, 04 Jan 2024   Prob (F-statistic):           2.04e-51\n",
      "Time:                        00:20:01   Log-Likelihood:                -9511.1\n",
      "No. Observations:                 706   AIC:                         1.903e+04\n",
      "Df Residuals:                     704   BIC:                         1.904e+04\n",
      "Df Model:                           1                                         \n",
      "Covariance Type:            nonrobust                                         \n",
      "==============================================================================\n",
      "                 coef    std err          t      P>|t|      [0.025      0.975]\n",
      "------------------------------------------------------------------------------\n",
      "Intercept  -2.174e+05    3.4e+04     -6.385      0.000   -2.84e+05   -1.51e+05\n",
      "duration    2.951e+04   1799.598     16.397      0.000     2.6e+04     3.3e+04\n",
      "==============================================================================\n",
      "Omnibus:                       78.538   Durbin-Watson:                   1.747\n",
      "Prob(Omnibus):                  0.000   Jarque-Bera (JB):              103.943\n",
      "Skew:                           0.863   Prob(JB):                     2.69e-23\n",
      "Kurtosis:                       3.744   Cond. No.                         99.8\n",
      "==============================================================================\n",
      "\n",
      "Notes:\n",
      "[1] Standard Errors assume that the covariance matrix of the errors is correctly specified.\n"
     ]
    }
   ],
   "source": [
    "#relationship between the duration(in_years) and the price\n",
    "duration_Price=ols('Price~duration',data=data).fit()\n",
    "print(duration_Price.summary())\n",
    "    "
   ]
  },
  {
   "cell_type": "code",
   "execution_count": 40,
   "id": "910274a5",
   "metadata": {
    "ExecuteTime": {
     "end_time": "2024-01-03T18:50:01.237680Z",
     "start_time": "2024-01-03T18:50:01.221680Z"
    }
   },
   "outputs": [
    {
     "data": {
      "text/plain": [
       "Index(['name', 'company', 'year', 'Price', 'kms_driven', 'fuel_type',\n",
       "       'duration', 'duration(in_years)'],\n",
       "      dtype='object')"
      ]
     },
     "execution_count": 40,
     "metadata": {},
     "output_type": "execute_result"
    }
   ],
   "source": [
    "data.columns"
   ]
  },
  {
   "cell_type": "code",
   "execution_count": 41,
   "id": "e29cc712",
   "metadata": {
    "ExecuteTime": {
     "end_time": "2024-01-03T18:50:02.305399Z",
     "start_time": "2024-01-03T18:50:02.225388Z"
    }
   },
   "outputs": [
    {
     "name": "stdout",
     "output_type": "stream",
     "text": [
      "                            OLS Regression Results                            \n",
      "==============================================================================\n",
      "Dep. Variable:                  Price   R-squared:                       0.108\n",
      "Model:                            OLS   Adj. R-squared:                  0.105\n",
      "Method:                 Least Squares   F-statistic:                     42.55\n",
      "Date:                Thu, 04 Jan 2024   Prob (F-statistic):           3.59e-18\n",
      "Time:                        00:20:02   Log-Likelihood:                -9584.9\n",
      "No. Observations:                 706   AIC:                         1.918e+04\n",
      "Df Residuals:                     703   BIC:                         1.919e+04\n",
      "Df Model:                           2                                         \n",
      "Covariance Type:            nonrobust                                         \n",
      "==========================================================================================\n",
      "                             coef    std err          t      P>|t|      [0.025      0.975]\n",
      "------------------------------------------------------------------------------------------\n",
      "Intercept               4.045e+05   1.08e+04     37.603      0.000    3.83e+05    4.26e+05\n",
      "C(fuel_type)[T.LPG]    -1.145e+05   1.91e+05     -0.599      0.550    -4.9e+05    2.61e+05\n",
      "C(fuel_type)[T.Petrol] -1.334e+05   1.45e+04     -9.223      0.000   -1.62e+05   -1.05e+05\n",
      "==============================================================================\n",
      "Omnibus:                       70.193   Durbin-Watson:                   1.785\n",
      "Prob(Omnibus):                  0.000   Jarque-Bera (JB):               88.879\n",
      "Skew:                           0.843   Prob(JB):                     5.01e-20\n",
      "Kurtosis:                       3.426   Cond. No.                         31.2\n",
      "==============================================================================\n",
      "\n",
      "Notes:\n",
      "[1] Standard Errors assume that the covariance matrix of the errors is correctly specified.\n"
     ]
    }
   ],
   "source": [
    "#relationship between the fuel_type and the price\n",
    "fuel_Price=ols('Price~C(fuel_type)',data=data).fit()\n",
    "print(fuel_Price.summary())"
   ]
  },
  {
   "cell_type": "code",
   "execution_count": 42,
   "id": "2aeea48f",
   "metadata": {
    "ExecuteTime": {
     "end_time": "2024-01-03T18:50:04.058814Z",
     "start_time": "2024-01-03T18:50:03.476514Z"
    }
   },
   "outputs": [
    {
     "name": "stdout",
     "output_type": "stream",
     "text": [
      "                            OLS Regression Results                            \n",
      "==============================================================================\n",
      "Dep. Variable:                  Price   R-squared:                       0.911\n",
      "Model:                            OLS   Adj. R-squared:                  0.793\n",
      "Method:                 Least Squares   F-statistic:                     7.772\n",
      "Date:                Thu, 04 Jan 2024   Prob (F-statistic):           1.29e-65\n",
      "Time:                        00:20:03   Log-Likelihood:                -8772.7\n",
      "No. Observations:                 706   AIC:                         1.835e+04\n",
      "Df Residuals:                     305   BIC:                         2.018e+04\n",
      "Df Model:                         400                                         \n",
      "Covariance Type:            nonrobust                                         \n",
      "===============================================================================================================================\n",
      "                                                                  coef    std err          t      P>|t|      [0.025      0.975]\n",
      "-------------------------------------------------------------------------------------------------------------------------------\n",
      "Intercept                                                     6.99e+05   6.49e+04     10.777      0.000    5.71e+05    8.27e+05\n",
      "C(name)[T.Audi Q7]                                           -1.99e+05   1.12e+05     -1.771      0.077    -4.2e+05    2.21e+04\n",
      "C(name)[T.BMW 3 Series 320i]                                  -9.9e+04   1.12e+05     -0.881      0.379    -3.2e+05    1.22e+05\n",
      "C(name)[T.BMW 5 Series 530i]                                  -4.9e+04   1.12e+05     -0.436      0.663    -2.7e+05    1.72e+05\n",
      "C(name)[T.Chevrolet Beat]                                    -5.49e+05   1.12e+05     -4.887      0.000    -7.7e+05   -3.28e+05\n",
      "C(name)[T.Chevrolet Beat Diesel]                            -5.473e+05   8.37e+04     -6.537      0.000   -7.12e+05   -3.83e+05\n",
      "C(name)[T.Chevrolet Beat LS Diesel]                         -5.068e+05   7.94e+04     -6.379      0.000   -6.63e+05    -3.5e+05\n",
      "C(name)[T.Chevrolet Beat LS Petrol]                          -5.59e+05   8.37e+04     -6.676      0.000   -7.24e+05   -3.94e+05\n",
      "C(name)[T.Chevrolet Beat LT Diesel]                         -5.544e+05   7.94e+04     -6.979      0.000   -7.11e+05   -3.98e+05\n",
      "C(name)[T.Chevrolet Beat LT Opt Diesel]                      -5.49e+05   1.12e+05     -4.887      0.000    -7.7e+05   -3.28e+05\n",
      "C(name)[T.Chevrolet Beat LT Petrol]                          -5.64e+05   1.12e+05     -5.020      0.000   -7.85e+05   -3.43e+05\n",
      "C(name)[T.Chevrolet Beat PS Diesel]                          -4.84e+05   1.12e+05     -4.308      0.000   -7.05e+05   -2.63e+05\n",
      "C(name)[T.Chevrolet Cruze LTZ]                               -3.49e+05   1.12e+05     -3.107      0.002    -5.7e+05   -1.28e+05\n",
      "C(name)[T.Chevrolet Cruze LTZ AT]                            -2.99e+05   1.12e+05     -2.662      0.008    -5.2e+05   -7.79e+04\n",
      "C(name)[T.Chevrolet Enjoy]                                   -2.09e+05   1.12e+05     -1.860      0.064    -4.3e+05    1.21e+04\n",
      "C(name)[T.Chevrolet Enjoy 1.4 LS 8 STR]                      -4.54e+05   1.12e+05     -4.041      0.000   -6.75e+05   -2.33e+05\n",
      "C(name)[T.Chevrolet Sail 1.2 LS]                             -3.99e+05   1.12e+05     -3.552      0.000    -6.2e+05   -1.78e+05\n",
      "C(name)[T.Chevrolet Sail UVA Petrol LT ABS]                  -4.89e+05   1.12e+05     -4.353      0.000    -7.1e+05   -2.68e+05\n",
      "C(name)[T.Chevrolet Spark]                                  -5.406e+05   1.12e+05     -4.812      0.000   -7.62e+05    -3.2e+05\n",
      "C(name)[T.Chevrolet Spark 1.0 LT]                            -5.99e+05   1.12e+05     -5.332      0.000    -8.2e+05   -3.78e+05\n",
      "C(name)[T.Chevrolet Spark LS 1.0]                           -5.965e+05   9.17e+04     -6.503      0.000   -7.77e+05   -4.16e+05\n",
      "C(name)[T.Chevrolet Spark LT 1.0]                            -6.14e+05   1.12e+05     -5.465      0.000   -8.35e+05   -3.93e+05\n",
      "C(name)[T.Chevrolet Spark LT 1.0 Airbag]                     -5.89e+05   1.12e+05     -5.243      0.000    -8.1e+05   -3.68e+05\n",
      "C(name)[T.Chevrolet Tavera LS B3 10 Seats BSII]              -5.69e+05   1.12e+05     -5.065      0.000    -7.9e+05   -3.48e+05\n",
      "C(name)[T.Chevrolet Tavera Neo]                              -2.94e+05   8.37e+04     -3.511      0.001   -4.59e+05   -1.29e+05\n",
      "C(name)[T.Datsun GO T O]                                     -4.54e+05   1.12e+05     -4.041      0.000   -6.75e+05   -2.33e+05\n",
      "C(name)[T.Datsun Go Plus]                                    -4.14e+05   1.12e+05     -3.685      0.000   -6.35e+05   -1.93e+05\n",
      "C(name)[T.Datsun Redi GO]                                    -4.54e+05   1.12e+05     -4.041      0.000   -6.75e+05   -2.33e+05\n",
      "C(name)[T.Datsun Redi GO S]                                 -4.423e+05   8.37e+04     -5.283      0.000   -6.07e+05   -2.78e+05\n",
      "C(name)[T.Datsun Redi GO T O]                                -4.54e+05   1.12e+05     -4.041      0.000   -6.75e+05   -2.33e+05\n",
      "C(name)[T.Fiat Linea Emotion 1.4 L T Jet Petrol]             -5.79e+05   1.12e+05     -5.154      0.000      -8e+05   -3.58e+05\n",
      "C(name)[T.Fiat Petra ELX 1.2 PS]                             -6.24e+05   9.17e+04     -6.803      0.000   -8.04e+05   -4.44e+05\n",
      "C(name)[T.Fiat Punto Emotion 1.2]                           -5.295e+05   1.12e+05     -4.713      0.000   -7.51e+05   -3.08e+05\n",
      "C(name)[T.Force Motors Force One LX ABS 7 STR]               -1.19e+05   8.37e+04     -1.421      0.156   -2.84e+05    4.58e+04\n",
      "C(name)[T.Ford EcoSport]                                     -2.09e+05   9.17e+04     -2.279      0.023   -3.89e+05   -2.85e+04\n",
      "C(name)[T.Ford EcoSport Ambiente 1.5L TDCi]                   1.31e+05   9.17e+04      1.428      0.154   -4.95e+04    3.11e+05\n",
      "C(name)[T.Ford EcoSport Titanium 1.5 TDCi]                   -1.44e+05   9.17e+04     -1.570      0.117   -3.24e+05    3.65e+04\n",
      "C(name)[T.Ford EcoSport Titanium 1.5L TDCi]                  -1.43e+05   7.94e+04     -1.800      0.073   -2.99e+05    1.33e+04\n",
      "C(name)[T.Ford EcoSport Trend 1.5 Ti VCT]                    -1.19e+05   1.12e+05     -1.059      0.290    -3.4e+05    1.02e+05\n",
      "C(name)[T.Ford EcoSport Trend 1.5L TDCi]                     -1.24e+05   8.37e+04     -1.481      0.140   -2.89e+05    4.08e+04\n",
      "C(name)[T.Ford EcoSport Trend 1.5L Ti VCT]                   -2.34e+05   1.12e+05     -2.083      0.038   -4.55e+05   -1.29e+04\n",
      "C(name)[T.Ford Fiesta]                                       -4.24e+05   1.12e+05     -3.774      0.000   -6.45e+05   -2.03e+05\n",
      "C(name)[T.Ford Fiesta SXi 1.6 ABS]                           -4.49e+05   1.12e+05     -3.997      0.000    -6.7e+05   -2.28e+05\n",
      "C(name)[T.Ford Figo]                                         -5.24e+05   9.17e+04     -5.713      0.000   -7.04e+05   -3.44e+05\n",
      "C(name)[T.Ford Figo Diesel EXI]                              -5.04e+05   9.17e+04     -5.495      0.000   -6.84e+05   -3.24e+05\n",
      "C(name)[T.Ford Figo Diesel EXI Option]                       -4.89e+05   1.12e+05     -4.353      0.000    -7.1e+05   -2.68e+05\n",
      "C(name)[T.Ford Figo Duratorq Diesel Titanium 1.4]            -4.49e+05   1.12e+05     -3.997      0.000    -6.7e+05   -2.28e+05\n",
      "C(name)[T.Ford Figo Petrol LXI]                              -5.24e+05   1.12e+05     -4.664      0.000   -7.45e+05   -3.03e+05\n",
      "C(name)[T.Ford Figo Petrol Titanium]                         -1.74e+05   1.12e+05     -1.549      0.122   -3.95e+05    4.71e+04\n",
      "C(name)[T.Ford Fusion 1.4 TDCi Diesel]                       -5.74e+05   1.12e+05     -5.109      0.000   -7.95e+05   -3.53e+05\n",
      "C(name)[T.Ford Ikon 1.3 Flair Josh 100]                      -6.04e+05   1.12e+05     -5.376      0.000   -8.25e+05   -3.83e+05\n",
      "C(name)[T.Ford Ikon 1.6 Nxt]                                 -6.39e+05   1.12e+05     -5.688      0.000    -8.6e+05   -4.18e+05\n",
      "C(name)[T.Honda Accord]                                      -5.24e+05   1.12e+05     -4.664      0.000   -7.45e+05   -3.03e+05\n",
      "C(name)[T.Honda Amaze]                                      -3.949e+05   7.05e+04     -5.601      0.000   -5.34e+05   -2.56e+05\n",
      "C(name)[T.Honda Amaze 1.2 S i VTEC]                          -3.81e+05   9.17e+04     -4.154      0.000   -5.61e+05   -2.01e+05\n",
      "C(name)[T.Honda Amaze 1.2 VX i VTEC]                         -3.18e+05   1.12e+05     -2.831      0.005   -5.39e+05   -9.69e+04\n",
      "C(name)[T.Honda Amaze 1.5 S i DTEC]                             -4e+05   1.12e+05     -3.561      0.000   -6.21e+05   -1.79e+05\n",
      "C(name)[T.Honda Amaze 1.5 SX i DTEC]                         -3.54e+05   1.12e+05     -3.151      0.002   -5.75e+05   -1.33e+05\n",
      "C(name)[T.Honda Brio]                                        -4.74e+05   9.17e+04     -5.168      0.000   -6.54e+05   -2.94e+05\n",
      "C(name)[T.Honda Brio V MT]                                   -4.64e+05   1.12e+05     -4.130      0.000   -6.85e+05   -2.43e+05\n",
      "C(name)[T.Honda Brio VX AT]                                  -2.49e+05   1.12e+05     -2.216      0.027    -4.7e+05   -2.79e+04\n",
      "C(name)[T.Honda City]                                       -1.733e+05   7.01e+04     -2.474      0.014   -3.11e+05   -3.55e+04\n",
      "C(name)[T.Honda City 1.5 E MT]                               -6.04e+05   1.12e+05     -5.376      0.000   -8.25e+05   -3.83e+05\n",
      "C(name)[T.Honda City 1.5 EXi New]                            -5.94e+05   9.17e+04     -6.476      0.000   -7.74e+05   -4.14e+05\n",
      "C(name)[T.Honda City 1.5 S Inspire]                          -5.84e+05   1.12e+05     -5.198      0.000   -8.05e+05   -3.63e+05\n",
      "C(name)[T.Honda City 1.5 S MT]                              -3.805e+05   7.94e+04     -4.790      0.000   -5.37e+05   -2.24e+05\n",
      "C(name)[T.Honda City 1.5 V AT]                                -4.3e+05   1.12e+05     -3.828      0.000   -6.51e+05   -2.09e+05\n",
      "C(name)[T.Honda City 1.5 V MT]                               -2.82e+05   9.17e+04     -3.074      0.002   -4.62e+05   -1.02e+05\n",
      "C(name)[T.Honda City SV]                   "
     ]
    },
    {
     "data": {
      "text/html": [
       "<b>limit_output extension: Maximum message size of 10000 exceeded with 53155 characters</b>"
      ]
     },
     "metadata": {},
     "output_type": "display_data"
    }
   ],
   "source": [
    "#relationship between the name and the price\n",
    "fuel_Price=ols('Price~C(name)',data=data).fit()\n",
    "print(fuel_Price.summary())"
   ]
  },
  {
   "cell_type": "code",
   "execution_count": 43,
   "id": "47345b27",
   "metadata": {
    "ExecuteTime": {
     "end_time": "2024-01-03T18:50:04.970594Z",
     "start_time": "2024-01-03T18:50:04.888147Z"
    }
   },
   "outputs": [
    {
     "name": "stdout",
     "output_type": "stream",
     "text": [
      "                            OLS Regression Results                            \n",
      "==============================================================================\n",
      "Dep. Variable:                  Price   R-squared:                       0.281\n",
      "Model:                            OLS   Adj. R-squared:                  0.279\n",
      "Method:                 Least Squares   F-statistic:                     137.4\n",
      "Date:                Thu, 04 Jan 2024   Prob (F-statistic):           4.22e-51\n",
      "Time:                        00:20:04   Log-Likelihood:                -9508.8\n",
      "No. Observations:                 706   AIC:                         1.902e+04\n",
      "Df Residuals:                     703   BIC:                         1.904e+04\n",
      "Df Model:                           2                                         \n",
      "Covariance Type:            nonrobust                                         \n",
      "==============================================================================\n",
      "                 coef    std err          t      P>|t|      [0.025      0.975]\n",
      "------------------------------------------------------------------------------\n",
      "Intercept  -2.752e+05   4.33e+04     -6.350      0.000    -3.6e+05    -1.9e+05\n",
      "kms_driven     0.6689      0.311      2.148      0.032       0.057       1.280\n",
      "duration    3.114e+04   1949.944     15.971      0.000    2.73e+04     3.5e+04\n",
      "==============================================================================\n",
      "Omnibus:                       71.064   Durbin-Watson:                   1.761\n",
      "Prob(Omnibus):                  0.000   Jarque-Bera (JB):               91.555\n",
      "Skew:                           0.811   Prob(JB):                     1.32e-20\n",
      "Kurtosis:                       3.694   Cond. No.                     3.15e+05\n",
      "==============================================================================\n",
      "\n",
      "Notes:\n",
      "[1] Standard Errors assume that the covariance matrix of the errors is correctly specified.\n",
      "[2] The condition number is large, 3.15e+05. This might indicate that there are\n",
      "strong multicollinearity or other numerical problems.\n"
     ]
    }
   ],
   "source": [
    "#Impact of all the numerical variable with the price\n",
    "numerical_vs_price=ols('Price~kms_driven+duration',data=data).fit()\n",
    "print(numerical_vs_price.summary())"
   ]
  },
  {
   "cell_type": "code",
   "execution_count": 44,
   "id": "23f293d2",
   "metadata": {
    "ExecuteTime": {
     "end_time": "2024-01-03T18:50:06.444123Z",
     "start_time": "2024-01-03T18:50:05.859546Z"
    }
   },
   "outputs": [
    {
     "name": "stdout",
     "output_type": "stream",
     "text": [
      "                            OLS Regression Results                            \n",
      "==============================================================================\n",
      "Dep. Variable:                  Price   R-squared:                       0.912\n",
      "Model:                            OLS   Adj. R-squared:                  0.796\n",
      "Method:                 Least Squares   F-statistic:                     7.840\n",
      "Date:                Thu, 04 Jan 2024   Prob (F-statistic):           6.27e-66\n",
      "Time:                        00:20:06   Log-Likelihood:                -8768.0\n",
      "No. Observations:                 706   AIC:                         1.834e+04\n",
      "Df Residuals:                     304   BIC:                         2.017e+04\n",
      "Df Model:                         401                                         \n",
      "Covariance Type:            nonrobust                                         \n",
      "===============================================================================================================================\n",
      "                                                                  coef    std err          t      P>|t|      [0.025      0.975]\n",
      "-------------------------------------------------------------------------------------------------------------------------------\n",
      "Intercept                                                    7.508e+05   6.95e+04     10.803      0.000    6.14e+05    8.88e+05\n",
      "C(name)[T.Audi Q7]                                          -2.508e+05   1.15e+05     -2.186      0.030   -4.77e+05    -2.5e+04\n",
      "C(name)[T.BMW 3 Series 320i]                                -4.967e+04   7.14e+04     -0.696      0.487    -1.9e+05    9.07e+04\n",
      "C(name)[T.BMW 5 Series 530i]                                  333.3333   7.14e+04      0.005      0.996    -1.4e+05    1.41e+05\n",
      "C(name)[T.Chevrolet Beat]                                   -5.427e+04   8.97e+04     -0.605      0.546   -2.31e+05    1.22e+05\n",
      "C(name)[T.Chevrolet Beat Diesel]                            -1.044e+05   5.47e+04     -1.908      0.057   -2.12e+05    3255.670\n",
      "C(name)[T.Chevrolet Beat LS Diesel]                          -6.38e+04   4.86e+04     -1.313      0.190   -1.59e+05    3.18e+04\n",
      "C(name)[T.Chevrolet Beat LS Petrol]                         -6.427e+04   5.47e+04     -1.175      0.241   -1.72e+05    4.34e+04\n",
      "C(name)[T.Chevrolet Beat LT Diesel]                         -1.114e+05   4.86e+04     -2.293      0.023   -2.07e+05   -1.58e+04\n",
      "C(name)[T.Chevrolet Beat LT Opt Diesel]                      -1.06e+05   8.97e+04     -1.183      0.238   -2.83e+05    7.04e+04\n",
      "C(name)[T.Chevrolet Beat LT Petrol]                         -6.927e+04   8.97e+04     -0.772      0.440   -2.46e+05    1.07e+05\n",
      "C(name)[T.Chevrolet Beat PS Diesel]                         -4.105e+04   8.97e+04     -0.458      0.647   -2.18e+05    1.35e+05\n",
      "C(name)[T.Chevrolet Cruze LTZ]                               9.395e+04   8.97e+04      1.048      0.296   -8.25e+04     2.7e+05\n",
      "C(name)[T.Chevrolet Cruze LTZ AT]                             1.44e+05   8.97e+04      1.605      0.109   -3.25e+04     3.2e+05\n",
      "C(name)[T.Chevrolet Enjoy]                                    2.34e+05   8.97e+04      2.609      0.010    5.75e+04     4.1e+05\n",
      "C(name)[T.Chevrolet Enjoy 1.4 LS 8 STR]                     -1.105e+04   8.97e+04     -0.123      0.902   -1.88e+05    1.65e+05\n",
      "C(name)[T.Chevrolet Sail 1.2 LS]                             9.573e+04   8.97e+04      1.068      0.287   -8.07e+04    2.72e+05\n",
      "C(name)[T.Chevrolet Sail UVA Petrol LT ABS]                  5733.4699   8.97e+04      0.064      0.949   -1.71e+05    1.82e+05\n",
      "C(name)[T.Chevrolet Spark]                                  -4.587e+04   8.97e+04     -0.511      0.609   -2.22e+05    1.31e+05\n",
      "C(name)[T.Chevrolet Spark 1.0 LT]                           -1.043e+05   8.97e+04     -1.163      0.246   -2.81e+05    7.22e+04\n",
      "C(name)[T.Chevrolet Spark LS 1.0]                           -1.018e+05   6.52e+04     -1.560      0.120    -2.3e+05    2.66e+04\n",
      "C(name)[T.Chevrolet Spark LT 1.0]                           -1.193e+05   8.97e+04     -1.330      0.185   -2.96e+05    5.72e+04\n",
      "C(name)[T.Chevrolet Spark LT 1.0 Airbag]                    -9.427e+04   8.97e+04     -1.051      0.294   -2.71e+05    8.22e+04\n",
      "C(name)[T.Chevrolet Tavera LS B3 10 Seats BSII]              -1.26e+05   8.97e+04     -1.406      0.161   -3.03e+05    5.04e+04\n",
      "C(name)[T.Chevrolet Tavera Neo]                               1.49e+05   5.47e+04      2.723      0.007    4.13e+04    2.57e+05\n",
      "C(name)[T.Datsun GO T O]                                    -8.428e+04   8.17e+04     -1.032      0.303   -2.45e+05    7.65e+04\n",
      "C(name)[T.Datsun Go Plus]                                   -4.428e+04   8.17e+04     -0.542      0.588   -2.05e+05    1.16e+05\n",
      "C(name)[T.Datsun Redi GO]                                   -8.428e+04   8.17e+04     -1.032      0.303   -2.45e+05    7.65e+04\n",
      "C(name)[T.Datsun Redi GO S]                                 -7.261e+04   5.45e+04     -1.332      0.184    -1.8e+05    3.46e+04\n",
      "C(name)[T.Datsun Redi GO T O]                               -8.428e+04   8.17e+04     -1.032      0.303   -2.45e+05    7.65e+04\n",
      "C(name)[T.Fiat Linea Emotion 1.4 L T Jet Petrol]            -1.329e+05    7.6e+04     -1.750      0.081   -2.82e+05    1.65e+04\n",
      "C(name)[T.Fiat Petra ELX 1.2 PS]                            -1.779e+05   6.07e+04     -2.931      0.004   -2.97e+05   -5.85e+04\n",
      "C(name)[T.Fiat Punto Emotion 1.2]                           -1.352e+05   7.81e+04     -1.731      0.084   -2.89e+05    1.85e+04\n",
      "C(name)[T.Force Motors Force One LX ABS 7 STR]              -8.539e+04   4.36e+04     -1.958      0.051   -1.71e+05     424.899\n",
      "C(name)[T.Ford EcoSport]                                     1.434e+05   6.51e+04      2.204      0.028    1.54e+04    2.72e+05\n",
      "C(name)[T.Ford EcoSport Ambiente 1.5L TDCi]                  4.317e+05    6.5e+04      6.642      0.000    3.04e+05     5.6e+05\n",
      "C(name)[T.Ford EcoSport Titanium 1.5 TDCi]                   1.567e+05    6.5e+04      2.411      0.017    2.88e+04    2.85e+05\n",
      "C(name)[T.Ford EcoSport Titanium 1.5L TDCi]                  1.577e+05   4.86e+04      3.245      0.001    6.21e+04    2.53e+05\n",
      "C(name)[T.Ford EcoSport Trend 1.5 Ti VCT]                    2.334e+05   8.92e+04      2.616      0.009    5.79e+04    4.09e+05\n",
      "C(name)[T.Ford EcoSport Trend 1.5L TDCi]                     1.939e+05   5.33e+04      3.640      0.000    8.91e+04    2.99e+05\n",
      "C(name)[T.Ford EcoSport Trend 1.5L Ti VCT]                   1.184e+05   8.92e+04      1.327      0.185   -5.71e+04    2.94e+05\n",
      "C(name)[T.Ford Fiesta]                                      -1.233e+05   8.92e+04     -1.383      0.168   -2.99e+05    5.21e+04\n",
      "C(name)[T.Ford Fiesta SXi 1.6 ABS]                          -9.655e+04   8.92e+04     -1.082      0.280   -2.72e+05     7.9e+04\n",
      "C(name)[T.Ford Figo]                                        -2.233e+05    6.5e+04     -3.436      0.001   -3.51e+05   -9.54e+04\n",
      "C(name)[T.Ford Figo Diesel EXI]                             -2.033e+05    6.5e+04     -3.129      0.002   -3.31e+05   -7.54e+04\n",
      "C(name)[T.Ford Figo Diesel EXI Option]                      -1.883e+05   8.92e+04     -2.112      0.035   -3.64e+05   -1.29e+04\n",
      "C(name)[T.Ford Figo Duratorq Diesel Titanium 1.4]           -1.483e+05   8.92e+04     -1.663      0.097   -3.24e+05    2.71e+04\n",
      "C(name)[T.Ford Figo Petrol LXI]                             -1.716e+05   8.92e+04     -1.922      0.055   -3.47e+05    4042.801\n",
      "C(name)[T.Ford Figo Petrol Titanium]                         1.784e+05   8.92e+04      2.000      0.046    2856.141    3.54e+05\n",
      "C(name)[T.Ford Fusion 1.4 TDCi Diesel]                      -2.733e+05   8.92e+04     -3.065      0.002   -4.49e+05   -9.79e+04\n",
      "C(name)[T.Ford Ikon 1.3 Flair Josh 100]                     -2.516e+05   8.92e+04     -2.819      0.005   -4.27e+05    -7.6e+04\n",
      "C(name)[T.Ford Ikon 1.6 Nxt]                                -2.866e+05   8.92e+04     -3.211      0.001   -4.62e+05   -1.11e+05\n",
      "C(name)[T.Honda Accord]                                     -1.433e+05   8.95e+04     -1.600      0.111   -3.19e+05     3.3e+04\n",
      "C(name)[T.Honda Amaze]                                       -3.77e+04   3.12e+04     -1.207      0.228   -9.92e+04    2.38e+04\n",
      "C(name)[T.Honda Amaze 1.2 S i VTEC]                          -258.0241   6.43e+04     -0.004      0.997   -1.27e+05    1.26e+05\n",
      "C(name)[T.Honda Amaze 1.2 VX i VTEC]                         6.274e+04   8.95e+04      0.701      0.484   -1.13e+05    2.39e+05\n",
      "C(name)[T.Honda Amaze 1.5 S i DTEC]                         -7.104e+04   9.16e+04     -0.775      0.439   -2.51e+05    1.09e+05\n",
      "C(name)[T.Honda Amaze 1.5 SX i DTEC]                        -2.504e+04   9.16e+04     -0.273      0.785   -2.05e+05    1.55e+05\n",
      "C(name)[T.Honda Brio]                                       -9.326e+04   6.43e+04     -1.449      0.148    -2.2e+05    3.34e+04\n",
      "C(name)[T.Honda Brio V MT]                                  -8.326e+04   8.95e+04     -0.930      0.353   -2.59e+05     9.3e+04\n",
      "C(name)[T.Honda Brio VX AT]                                  1.317e+05   8.95e+04      1.471      0.142   -4.45e+04    3.08e+05\n",
      "C(name)[T.Honda City]                                        1.945e+05   2.97e+04      6.558      0.000    1.36e+05    2.53e+05\n",
      "C(name)[T.Honda City 1.5 E MT]                              -2.233e+05   8.95e+04     -2.493      0.013   -3.99e+05    -4.7e+04\n",
      "C(name)[T.Honda City 1.5 EXi New]                           -2.133e+05   6.43e+04     -3.314      0.001    -3.4e+05   -8.66e+04\n",
      "C(name)[T.Honda City 1.5 S Inspire]                         -2.033e+05   8.95e+04     -2.270      0.024   -3.79e+05    -2.7e+04\n",
      "C(name)[T.Honda City 1.5 S MT]                                241.9759   4.69e+04      0.005      0.996   -9.21e+04    9.26e+04\n",
      "C(name)[T.Honda City 1.5 V AT]                              -4.926e+04   8.95e+04     -0.550      0.583   -2.25e+05    1.27e+05\n",
      "C(name)[T.Honda City 1.5 V MT]                               9.874e+04   6.43e+04      1.535      0.126   -2.79e+04    2.25e+05\n",
      "C(name)[T.Honda City SV]                   "
     ]
    },
    {
     "data": {
      "text/html": [
       "<b>limit_output extension: Maximum message size of 10000 exceeded with 55992 characters</b>"
      ]
     },
     "metadata": {},
     "output_type": "display_data"
    }
   ],
   "source": [
    "#Impact of all the categorical variable with the price\n",
    "numerical_vs_price=ols('Price~C(name)+C(company)+C(fuel_type)',data=data).fit()\n",
    "print(numerical_vs_price.summary())"
   ]
  },
  {
   "cell_type": "markdown",
   "id": "d798303c",
   "metadata": {},
   "source": [
    "***Coefficients:***\n",
    "\n",
    "***Estimate:*** The estimated coefficient for each feature, indicating the change in the target variable associated with a one-unit increase in that feature.\n",
    "***Std. Error:*** The standard error of the estimate, measuring its uncertainty.\n",
    "***t:*** The t-statistic, testing whether the coefficient is significantly different from zero.\n",
    "***P>|t|:*** The p-value associated with the t-statistic. Values below 0.05 (or another chosen significance level) suggest a statistically significant coefficient.\n",
    "***R-squared:***\n",
    "\n",
    "Indicates the proportion of variance in the target variable explained by the model. Higher values (closer to 1) suggest better fit.\n",
    "***Adj. R-squared:***\n",
    "\n",
    "Adjusted R-squared penalizes for the number of features in the model, providing a more realistic assessment of fit.\n",
    "***F-statistic:***\n",
    "\n",
    "Tests the overall significance of the model. A high F-statistic and low p-value suggest the model likely captures a real relationship between features and target.\n",
    "Additional helpful information:\n",
    "\n",
    "***Conf. Int. (95%):*** Confidence intervals for the coefficients, indicating the range within which the true coefficient is likely to lie with 95% confidence.\n",
    "\n",
    "***Skewness:*** A measure of the asymmetry of the residuals.\n",
    "\n",
    "***Kurtosis:*** A measure of the \"tailedness\" of the residuals.\n",
    "\n",
    "***Omnibus:*** A test for normality of the residuals.\n",
    "\n",
    "***Durbin-Watson:*** A test for autocorrelation of the residuals.\n",
    "\n",
    "***Interpreting coefficients:***\n",
    "\n",
    "\n",
    "Positive coefficients suggest a positive relationship between feature and target.\n",
    "\n",
    "Negative coefficients suggest a negative relationship.\n",
    "\n",
    "Coefficients closer to zero have weaker effects.\n",
    "\n",
    "Consider significance levels (p-values) to determine if a coefficient is statistically meaningful."
   ]
  },
  {
   "cell_type": "code",
   "execution_count": 46,
   "id": "84085bdf",
   "metadata": {
    "ExecuteTime": {
     "end_time": "2024-01-03T18:50:38.535884Z",
     "start_time": "2024-01-03T18:50:38.515887Z"
    }
   },
   "outputs": [],
   "source": [
    "new_data=pd.DataFrame(data[['name','company','fuel_type','kms_driven','duration','Price']])"
   ]
  },
  {
   "cell_type": "markdown",
   "id": "2b789581",
   "metadata": {},
   "source": [
    "***based of the results of the ols the categorical variable has the highest impact over the numerical variable***"
   ]
  },
  {
   "cell_type": "markdown",
   "id": "6c2934ca",
   "metadata": {},
   "source": [
    "# As the categorical variables are in the form of the string using the ordinal encoding"
   ]
  },
  {
   "cell_type": "code",
   "execution_count": 61,
   "id": "f43c4a48",
   "metadata": {
    "ExecuteTime": {
     "end_time": "2024-01-03T19:20:10.561776Z",
     "start_time": "2024-01-03T19:20:10.536490Z"
    }
   },
   "outputs": [],
   "source": [
    "#importing the essential libraries for the ordinal encoding\n",
    "from sklearn.compose import ColumnTransformer\n",
    "from sklearn.preprocessing import OrdinalEncoder"
   ]
  },
  {
   "cell_type": "code",
   "execution_count": 62,
   "id": "eb986d67",
   "metadata": {
    "ExecuteTime": {
     "end_time": "2024-01-03T19:20:11.538056Z",
     "start_time": "2024-01-03T19:20:11.490055Z"
    }
   },
   "outputs": [],
   "source": [
    "#seprarating the categorical and numerical variables\n",
    "cat_var=['name', 'company','fuel_type']\n",
    "num_var=['kms_driven','duration','Price']\n",
    "#using the column_transfrom\n",
    "transformer=ColumnTransformer(transformers=[('ordinal',OrdinalEncoder(),cat_var),('passthrough','passthrough',num_var)],remainder='passthrough')\n",
    "encoded_data=transformer.fit_transform(data)\n",
    "encoded_data=pd.DataFrame(encoded_data)"
   ]
  },
  {
   "cell_type": "code",
   "execution_count": 63,
   "id": "9a0b6d36",
   "metadata": {
    "ExecuteTime": {
     "end_time": "2024-01-03T19:20:13.603230Z",
     "start_time": "2024-01-03T19:20:13.546448Z"
    }
   },
   "outputs": [
    {
     "data": {
      "text/html": [
       "<div>\n",
       "<style scoped>\n",
       "    .dataframe tbody tr th:only-of-type {\n",
       "        vertical-align: middle;\n",
       "    }\n",
       "\n",
       "    .dataframe tbody tr th {\n",
       "        vertical-align: top;\n",
       "    }\n",
       "\n",
       "    .dataframe thead th {\n",
       "        text-align: right;\n",
       "    }\n",
       "</style>\n",
       "<table border=\"1\" class=\"dataframe\">\n",
       "  <thead>\n",
       "    <tr style=\"text-align: right;\">\n",
       "      <th></th>\n",
       "      <th>0</th>\n",
       "      <th>1</th>\n",
       "      <th>2</th>\n",
       "      <th>3</th>\n",
       "      <th>4</th>\n",
       "      <th>5</th>\n",
       "      <th>6</th>\n",
       "      <th>7</th>\n",
       "    </tr>\n",
       "  </thead>\n",
       "  <tbody>\n",
       "    <tr>\n",
       "      <th>0</th>\n",
       "      <td>119.0</td>\n",
       "      <td>8.0</td>\n",
       "      <td>2.0</td>\n",
       "      <td>45000.0</td>\n",
       "      <td>13.0</td>\n",
       "      <td>80000.0</td>\n",
       "      <td>2007.0</td>\n",
       "      <td>13.0</td>\n",
       "    </tr>\n",
       "    <tr>\n",
       "      <th>1</th>\n",
       "      <td>159.0</td>\n",
       "      <td>10.0</td>\n",
       "      <td>0.0</td>\n",
       "      <td>40.0</td>\n",
       "      <td>12.0</td>\n",
       "      <td>425000.0</td>\n",
       "      <td>2006.0</td>\n",
       "      <td>12.0</td>\n",
       "    </tr>\n",
       "    <tr>\n",
       "      <th>2</th>\n",
       "      <td>108.0</td>\n",
       "      <td>8.0</td>\n",
       "      <td>2.0</td>\n",
       "      <td>28000.0</td>\n",
       "      <td>20.0</td>\n",
       "      <td>325000.0</td>\n",
       "      <td>2014.0</td>\n",
       "      <td>20.0</td>\n",
       "    </tr>\n",
       "    <tr>\n",
       "      <th>3</th>\n",
       "      <td>37.0</td>\n",
       "      <td>6.0</td>\n",
       "      <td>0.0</td>\n",
       "      <td>36000.0</td>\n",
       "      <td>20.0</td>\n",
       "      <td>575000.0</td>\n",
       "      <td>2014.0</td>\n",
       "      <td>20.0</td>\n",
       "    </tr>\n",
       "    <tr>\n",
       "      <th>4</th>\n",
       "      <td>43.0</td>\n",
       "      <td>6.0</td>\n",
       "      <td>0.0</td>\n",
       "      <td>41000.0</td>\n",
       "      <td>18.0</td>\n",
       "      <td>175000.0</td>\n",
       "      <td>2012.0</td>\n",
       "      <td>18.0</td>\n",
       "    </tr>\n",
       "  </tbody>\n",
       "</table>\n",
       "</div>"
      ],
      "text/plain": [
       "       0     1    2        3     4         5       6     7\n",
       "0  119.0   8.0  2.0  45000.0  13.0   80000.0  2007.0  13.0\n",
       "1  159.0  10.0  0.0     40.0  12.0  425000.0  2006.0  12.0\n",
       "2  108.0   8.0  2.0  28000.0  20.0  325000.0  2014.0  20.0\n",
       "3   37.0   6.0  0.0  36000.0  20.0  575000.0  2014.0  20.0\n",
       "4   43.0   6.0  0.0  41000.0  18.0  175000.0  2012.0  18.0"
      ]
     },
     "execution_count": 63,
     "metadata": {},
     "output_type": "execute_result"
    }
   ],
   "source": [
    "encoded_data.head()"
   ]
  },
  {
   "cell_type": "markdown",
   "id": "16c96fa8",
   "metadata": {},
   "source": [
    "# train test and split data"
   ]
  },
  {
   "cell_type": "code",
   "execution_count": 64,
   "id": "03f94b45",
   "metadata": {
    "ExecuteTime": {
     "end_time": "2024-01-03T19:20:17.718307Z",
     "start_time": "2024-01-03T19:20:17.710365Z"
    }
   },
   "outputs": [],
   "source": [
    "from sklearn.model_selection import train_test_split\n",
    "x=encoded_data.iloc[:,:-1]\n",
    "y=encoded_data.iloc[:,-1]\n",
    "x_train,x_test,y_train,y_test=train_test_split(x,y,test_size=0.3)"
   ]
  },
  {
   "cell_type": "markdown",
   "id": "19a72369",
   "metadata": {},
   "source": [
    "# Choosing  the suitable model"
   ]
  },
  {
   "cell_type": "code",
   "execution_count": 73,
   "id": "2de4861e",
   "metadata": {
    "ExecuteTime": {
     "end_time": "2024-01-03T19:23:33.858645Z",
     "start_time": "2024-01-03T19:23:33.846658Z"
    }
   },
   "outputs": [],
   "source": [
    "#importing the models and the pipline\n",
    "from sklearn.linear_model import LinearRegression,Lasso,ElasticNet\n",
    "from sklearn.svm import SVR\n",
    "from sklearn.tree import DecisionTreeRegressor\n",
    "from sklearn.ensemble import RandomForestRegressor\n",
    "from sklearn.pipeline import make_pipeline\n",
    "from sklearn.metrics import r2_score"
   ]
  },
  {
   "cell_type": "code",
   "execution_count": 75,
   "id": "32f08a6a",
   "metadata": {
    "ExecuteTime": {
     "end_time": "2024-01-03T19:23:50.698777Z",
     "start_time": "2024-01-03T19:23:50.666735Z"
    },
    "code_folding": []
   },
   "outputs": [],
   "source": [
    "def model_score(encoded_data,x_train,x_test,y_train,y_test):\n",
    "    models={'LinearRegression':LinearRegression(),'Lasso':Lasso(),'ElasticNet':ElasticNet(),\n",
    "           'RandomforestRegression':RandomForestRegressor(),'SVR':SVR()}\n",
    "    score={}\n",
    "    for name,model in models.items():\n",
    "        model.fit(x_train,y_train)\n",
    "        y_predict=model.predict(x_test)\n",
    "        accuracy=r2_score(y_test,y_predict)\n",
    "        score[name]=accuracy\n",
    "    return score\n",
    "    \n"
   ]
  },
  {
   "cell_type": "code",
   "execution_count": 76,
   "id": "35246ad4",
   "metadata": {
    "ExecuteTime": {
     "end_time": "2024-01-03T19:23:56.136159Z",
     "start_time": "2024-01-03T19:23:55.711728Z"
    }
   },
   "outputs": [],
   "source": [
    "accuracy_score=model_score(encoded_data,x_train,x_test,y_train,y_test)"
   ]
  },
  {
   "cell_type": "code",
   "execution_count": 77,
   "id": "0a775f0e",
   "metadata": {
    "ExecuteTime": {
     "end_time": "2024-01-03T19:24:11.347581Z",
     "start_time": "2024-01-03T19:24:11.339173Z"
    }
   },
   "outputs": [
    {
     "name": "stdout",
     "output_type": "stream",
     "text": [
      "{'LinearRegression': 1.0, 'Lasso': 0.9872293101195079, 'ElasticNet': 0.9932705609573587, 'RandomforestRegression': 0.9999997031576258, 'SVR': 0.35061121967929065}\n"
     ]
    }
   ],
   "source": [
    "print(accuracy_score)"
   ]
  },
  {
   "cell_type": "code",
   "execution_count": 80,
   "id": "bcedfcef",
   "metadata": {
    "ExecuteTime": {
     "end_time": "2024-01-03T19:29:22.754006Z",
     "start_time": "2024-01-03T19:29:22.742245Z"
    }
   },
   "outputs": [
    {
     "name": "stdout",
     "output_type": "stream",
     "text": [
      "the maximum r_2 for the regression is SVR for the LinearRegression\n"
     ]
    }
   ],
   "source": [
    "print(f'the maximum r_2 for the regression is {max(accuracy_score)} for the {max(accuracy_score,key=accuracy_score.get)}')"
   ]
  },
  {
   "cell_type": "markdown",
   "id": "4f32d34a",
   "metadata": {},
   "source": [
    "# implementing the required regression"
   ]
  },
  {
   "cell_type": "code",
   "execution_count": 81,
   "id": "32d36faf",
   "metadata": {
    "ExecuteTime": {
     "end_time": "2024-01-03T19:31:49.569462Z",
     "start_time": "2024-01-03T19:31:49.547939Z"
    }
   },
   "outputs": [],
   "source": [
    "lr=LinearRegression()"
   ]
  },
  {
   "cell_type": "code",
   "execution_count": 82,
   "id": "8dd2bece",
   "metadata": {
    "ExecuteTime": {
     "end_time": "2024-01-03T19:33:49.515605Z",
     "start_time": "2024-01-03T19:33:49.469058Z"
    }
   },
   "outputs": [
    {
     "data": {
      "text/html": [
       "<style>#sk-container-id-1 {color: black;}#sk-container-id-1 pre{padding: 0;}#sk-container-id-1 div.sk-toggleable {background-color: white;}#sk-container-id-1 label.sk-toggleable__label {cursor: pointer;display: block;width: 100%;margin-bottom: 0;padding: 0.3em;box-sizing: border-box;text-align: center;}#sk-container-id-1 label.sk-toggleable__label-arrow:before {content: \"▸\";float: left;margin-right: 0.25em;color: #696969;}#sk-container-id-1 label.sk-toggleable__label-arrow:hover:before {color: black;}#sk-container-id-1 div.sk-estimator:hover label.sk-toggleable__label-arrow:before {color: black;}#sk-container-id-1 div.sk-toggleable__content {max-height: 0;max-width: 0;overflow: hidden;text-align: left;background-color: #f0f8ff;}#sk-container-id-1 div.sk-toggleable__content pre {margin: 0.2em;color: black;border-radius: 0.25em;background-color: #f0f8ff;}#sk-container-id-1 input.sk-toggleable__control:checked~div.sk-toggleable__content {max-height: 200px;max-width: 100%;overflow: auto;}#sk-container-id-1 input.sk-toggleable__control:checked~label.sk-toggleable__label-arrow:before {content: \"▾\";}#sk-container-id-1 div.sk-estimator input.sk-toggleable__control:checked~label.sk-toggleable__label {background-color: #d4ebff;}#sk-container-id-1 div.sk-label input.sk-toggleable__control:checked~label.sk-toggleable__label {background-color: #d4ebff;}#sk-container-id-1 input.sk-hidden--visually {border: 0;clip: rect(1px 1px 1px 1px);clip: rect(1px, 1px, 1px, 1px);height: 1px;margin: -1px;overflow: hidden;padding: 0;position: absolute;width: 1px;}#sk-container-id-1 div.sk-estimator {font-family: monospace;background-color: #f0f8ff;border: 1px dotted black;border-radius: 0.25em;box-sizing: border-box;margin-bottom: 0.5em;}#sk-container-id-1 div.sk-estimator:hover {background-color: #d4ebff;}#sk-container-id-1 div.sk-parallel-item::after {content: \"\";width: 100%;border-bottom: 1px solid gray;flex-grow: 1;}#sk-container-id-1 div.sk-label:hover label.sk-toggleable__label {background-color: #d4ebff;}#sk-container-id-1 div.sk-serial::before {content: \"\";position: absolute;border-left: 1px solid gray;box-sizing: border-box;top: 0;bottom: 0;left: 50%;z-index: 0;}#sk-container-id-1 div.sk-serial {display: flex;flex-direction: column;align-items: center;background-color: white;padding-right: 0.2em;padding-left: 0.2em;position: relative;}#sk-container-id-1 div.sk-item {position: relative;z-index: 1;}#sk-container-id-1 div.sk-parallel {display: flex;align-items: stretch;justify-content: center;background-color: white;position: relative;}#sk-container-id-1 div.sk-item::before, #sk-container-id-1 div.sk-parallel-item::before {content: \"\";position: absolute;border-left: 1px solid gray;box-sizing: border-box;top: 0;bottom: 0;left: 50%;z-index: -1;}#sk-container-id-1 div.sk-parallel-item {display: flex;flex-direction: column;z-index: 1;position: relative;background-color: white;}#sk-container-id-1 div.sk-parallel-item:first-child::after {align-self: flex-end;width: 50%;}#sk-container-id-1 div.sk-parallel-item:last-child::after {align-self: flex-start;width: 50%;}#sk-container-id-1 div.sk-parallel-item:only-child::after {width: 0;}#sk-container-id-1 div.sk-dashed-wrapped {border: 1px dashed gray;margin: 0 0.4em 0.5em 0.4em;box-sizing: border-box;padding-bottom: 0.4em;background-color: white;}#sk-container-id-1 div.sk-label label {font-family: monospace;font-weight: bold;display: inline-block;line-height: 1.2em;}#sk-container-id-1 div.sk-label-container {text-align: center;}#sk-container-id-1 div.sk-container {/* jupyter's `normalize.less` sets `[hidden] { display: none; }` but bootstrap.min.css set `[hidden] { display: none !important; }` so we also need the `!important` here to be able to override the default hidden behavior on the sphinx rendered scikit-learn.org. See: https://github.com/scikit-learn/scikit-learn/issues/21755 */display: inline-block !important;position: relative;}#sk-container-id-1 div.sk-text-repr-fallback {display: none;}</style><div id=\"sk-container-id-1\" class=\"sk-top-container\"><div class=\"sk-text-repr-fallback\"><pre>LinearRegression()</pre><b>In a Jupyter environment, please rerun this cell to show the HTML representation or trust the notebook. <br />On GitHub, the HTML representation is unable to render, please try loading this page with nbviewer.org.</b></div><div class=\"sk-container\" hidden><div class=\"sk-item\"><div class=\"sk-estimator sk-toggleable\"><input class=\"sk-toggleable__control sk-hidden--visually\" id=\"sk-estimator-id-1\" type=\"checkbox\" checked><label for=\"sk-estimator-id-1\" class=\"sk-toggleable__label sk-toggleable__label-arrow\">LinearRegression</label><div class=\"sk-toggleable__content\"><pre>LinearRegression()</pre></div></div></div></div></div>"
      ],
      "text/plain": [
       "LinearRegression()"
      ]
     },
     "execution_count": 82,
     "metadata": {},
     "output_type": "execute_result"
    }
   ],
   "source": [
    "#fitting the required model\n",
    "lr.fit(x_train,y_train)\n"
   ]
  },
  {
   "cell_type": "code",
   "execution_count": 84,
   "id": "30cfd2eb",
   "metadata": {
    "ExecuteTime": {
     "end_time": "2024-01-03T19:35:01.158886Z",
     "start_time": "2024-01-03T19:35:01.143818Z"
    }
   },
   "outputs": [],
   "source": [
    "y_predict=lr.predict(x_test)"
   ]
  },
  {
   "cell_type": "code",
   "execution_count": 85,
   "id": "17a9daf8",
   "metadata": {
    "ExecuteTime": {
     "end_time": "2024-01-03T19:35:21.440031Z",
     "start_time": "2024-01-03T19:35:21.376625Z"
    }
   },
   "outputs": [
    {
     "data": {
      "text/html": [
       "<div>\n",
       "<style scoped>\n",
       "    .dataframe tbody tr th:only-of-type {\n",
       "        vertical-align: middle;\n",
       "    }\n",
       "\n",
       "    .dataframe tbody tr th {\n",
       "        vertical-align: top;\n",
       "    }\n",
       "\n",
       "    .dataframe thead th {\n",
       "        text-align: right;\n",
       "    }\n",
       "</style>\n",
       "<table border=\"1\" class=\"dataframe\">\n",
       "  <thead>\n",
       "    <tr style=\"text-align: right;\">\n",
       "      <th></th>\n",
       "      <th>0</th>\n",
       "      <th>1</th>\n",
       "      <th>2</th>\n",
       "      <th>3</th>\n",
       "      <th>4</th>\n",
       "      <th>5</th>\n",
       "      <th>6</th>\n",
       "    </tr>\n",
       "  </thead>\n",
       "  <tbody>\n",
       "    <tr>\n",
       "      <th>583</th>\n",
       "      <td>279.0</td>\n",
       "      <td>11.0</td>\n",
       "      <td>2.0</td>\n",
       "      <td>37458.0</td>\n",
       "      <td>20.0</td>\n",
       "      <td>130000.0</td>\n",
       "      <td>2014.0</td>\n",
       "    </tr>\n",
       "    <tr>\n",
       "      <th>554</th>\n",
       "      <td>161.0</td>\n",
       "      <td>10.0</td>\n",
       "      <td>0.0</td>\n",
       "      <td>35000.0</td>\n",
       "      <td>23.0</td>\n",
       "      <td>360000.0</td>\n",
       "      <td>2017.0</td>\n",
       "    </tr>\n",
       "    <tr>\n",
       "      <th>535</th>\n",
       "      <td>217.0</td>\n",
       "      <td>11.0</td>\n",
       "      <td>2.0</td>\n",
       "      <td>50000.0</td>\n",
       "      <td>22.0</td>\n",
       "      <td>650000.0</td>\n",
       "      <td>2016.0</td>\n",
       "    </tr>\n",
       "    <tr>\n",
       "      <th>2</th>\n",
       "      <td>108.0</td>\n",
       "      <td>8.0</td>\n",
       "      <td>2.0</td>\n",
       "      <td>28000.0</td>\n",
       "      <td>20.0</td>\n",
       "      <td>325000.0</td>\n",
       "      <td>2014.0</td>\n",
       "    </tr>\n",
       "    <tr>\n",
       "      <th>389</th>\n",
       "      <td>91.0</td>\n",
       "      <td>8.0</td>\n",
       "      <td>2.0</td>\n",
       "      <td>20000.0</td>\n",
       "      <td>21.0</td>\n",
       "      <td>419000.0</td>\n",
       "      <td>2015.0</td>\n",
       "    </tr>\n",
       "    <tr>\n",
       "      <th>...</th>\n",
       "      <td>...</td>\n",
       "      <td>...</td>\n",
       "      <td>...</td>\n",
       "      <td>...</td>\n",
       "      <td>...</td>\n",
       "      <td>...</td>\n",
       "      <td>...</td>\n",
       "    </tr>\n",
       "    <tr>\n",
       "      <th>414</th>\n",
       "      <td>237.0</td>\n",
       "      <td>11.0</td>\n",
       "      <td>2.0</td>\n",
       "      <td>6020.0</td>\n",
       "      <td>20.0</td>\n",
       "      <td>190000.0</td>\n",
       "      <td>2014.0</td>\n",
       "    </tr>\n",
       "    <tr>\n",
       "      <th>367</th>\n",
       "      <td>340.0</td>\n",
       "      <td>17.0</td>\n",
       "      <td>0.0</td>\n",
       "      <td>70000.0</td>\n",
       "      <td>22.0</td>\n",
       "      <td>125000.0</td>\n",
       "      <td>2016.0</td>\n",
       "    </tr>\n",
       "    <tr>\n",
       "      <th>152</th>\n",
       "      <td>335.0</td>\n",
       "      <td>17.0</td>\n",
       "      <td>0.0</td>\n",
       "      <td>11400.0</td>\n",
       "      <td>17.0</td>\n",
       "      <td>85000.0</td>\n",
       "      <td>2011.0</td>\n",
       "    </tr>\n",
       "    <tr>\n",
       "      <th>67</th>\n",
       "      <td>315.0</td>\n",
       "      <td>16.0</td>\n",
       "      <td>0.0</td>\n",
       "      <td>38200.0</td>\n",
       "      <td>17.0</td>\n",
       "      <td>159500.0</td>\n",
       "      <td>2011.0</td>\n",
       "    </tr>\n",
       "    <tr>\n",
       "      <th>581</th>\n",
       "      <td>171.0</td>\n",
       "      <td>10.0</td>\n",
       "      <td>0.0</td>\n",
       "      <td>95500.0</td>\n",
       "      <td>15.0</td>\n",
       "      <td>320000.0</td>\n",
       "      <td>2009.0</td>\n",
       "    </tr>\n",
       "  </tbody>\n",
       "</table>\n",
       "<p>212 rows × 7 columns</p>\n",
       "</div>"
      ],
      "text/plain": [
       "         0     1    2        3     4         5       6\n",
       "583  279.0  11.0  2.0  37458.0  20.0  130000.0  2014.0\n",
       "554  161.0  10.0  0.0  35000.0  23.0  360000.0  2017.0\n",
       "535  217.0  11.0  2.0  50000.0  22.0  650000.0  2016.0\n",
       "2    108.0   8.0  2.0  28000.0  20.0  325000.0  2014.0\n",
       "389   91.0   8.0  2.0  20000.0  21.0  419000.0  2015.0\n",
       "..     ...   ...  ...      ...   ...       ...     ...\n",
       "414  237.0  11.0  2.0   6020.0  20.0  190000.0  2014.0\n",
       "367  340.0  17.0  0.0  70000.0  22.0  125000.0  2016.0\n",
       "152  335.0  17.0  0.0  11400.0  17.0   85000.0  2011.0\n",
       "67   315.0  16.0  0.0  38200.0  17.0  159500.0  2011.0\n",
       "581  171.0  10.0  0.0  95500.0  15.0  320000.0  2009.0\n",
       "\n",
       "[212 rows x 7 columns]"
      ]
     },
     "execution_count": 85,
     "metadata": {},
     "output_type": "execute_result"
    }
   ],
   "source": [
    "x_test"
   ]
  },
  {
   "cell_type": "code",
   "execution_count": 86,
   "id": "dc9a4f53",
   "metadata": {
    "ExecuteTime": {
     "end_time": "2024-01-03T19:35:31.238832Z",
     "start_time": "2024-01-03T19:35:31.209122Z"
    }
   },
   "outputs": [
    {
     "data": {
      "text/plain": [
       "array([20., 23., 22., 20., 21., 15., 16., 19., 23., 18., 21., 18., 19.,\n",
       "       19., 16., 22., 18., 15., 19., 11., 13., 21., 21., 22., 24., 18.,\n",
       "       16., 21., 10., 13., 20., 22., 21., 19., 18., 15., 11., 23., 23.,\n",
       "       12., 14., 19., 17., 19., 21., 17., 19., 19., 15., 17., 22., 21.,\n",
       "       17., 16., 12., 16., 17., 24., 15., 18., 24., 15., 21., 22., 16.,\n",
       "       20., 17., 19., 12., 22., 21., 23., 23., 15., 22., 19., 18., 23.,\n",
       "       21., 12., 20., 11., 19., 18., 15., 22., 23., 13., 15., 13., 21.,\n",
       "       18., 25., 17., 11., 21., 12., 19., 20., 19., 24., 19., 22., 21.,\n",
       "       17., 15., 12., 18., 19., 21., 18., 18., 22., 15., 22., 18., 22.,\n",
       "       17., 19., 24., 19., 23., 15., 19., 15., 23., 20., 18., 19., 18.,\n",
       "       18., 20.,  9., 21., 23., 19., 19., 19., 17., 21., 20., 17., 18.,\n",
       "       18., 19., 14., 19., 21., 20., 12., 15., 12., 22., 22., 15., 15.,\n",
       "       17., 23., 15., 18., 21., 18., 20., 18., 25., 13., 22., 23., 20.,\n",
       "       17., 17., 20., 20., 22., 19., 18., 12., 13., 16., 23., 16., 23.,\n",
       "       20., 19., 22.,  9., 21., 16., 15., 17., 20., 11., 24., 12., 14.,\n",
       "       19., 21., 11., 24., 12., 20., 24., 20., 19., 19., 22., 15., 20.,\n",
       "       22., 17., 17., 15.])"
      ]
     },
     "execution_count": 86,
     "metadata": {},
     "output_type": "execute_result"
    }
   ],
   "source": [
    "y_predict"
   ]
  },
  {
   "cell_type": "code",
   "execution_count": null,
   "id": "1549332c",
   "metadata": {},
   "outputs": [],
   "source": []
  }
 ],
 "metadata": {
  "hide_input": false,
  "kernelspec": {
   "display_name": "Python 3 (ipykernel)",
   "language": "python",
   "name": "python3"
  },
  "language_info": {
   "codemirror_mode": {
    "name": "ipython",
    "version": 3
   },
   "file_extension": ".py",
   "mimetype": "text/x-python",
   "name": "python",
   "nbconvert_exporter": "python",
   "pygments_lexer": "ipython3",
   "version": "3.11.3"
  },
  "nbTranslate": {
   "displayLangs": [
    "*"
   ],
   "hotkey": "alt-t",
   "langInMainMenu": true,
   "sourceLang": "en",
   "targetLang": "fr",
   "useGoogleTranslate": true
  },
  "toc": {
   "base_numbering": 1,
   "nav_menu": {},
   "number_sections": true,
   "sideBar": true,
   "skip_h1_title": false,
   "title_cell": "Table of Contents",
   "title_sidebar": "Contents",
   "toc_cell": false,
   "toc_position": {},
   "toc_section_display": true,
   "toc_window_display": false
  },
  "varInspector": {
   "cols": {
    "lenName": 16,
    "lenType": 16,
    "lenVar": 40
   },
   "kernels_config": {
    "python": {
     "delete_cmd_postfix": "",
     "delete_cmd_prefix": "del ",
     "library": "var_list.py",
     "varRefreshCmd": "print(var_dic_list())"
    },
    "r": {
     "delete_cmd_postfix": ") ",
     "delete_cmd_prefix": "rm(",
     "library": "var_list.r",
     "varRefreshCmd": "cat(var_dic_list()) "
    }
   },
   "types_to_exclude": [
    "module",
    "function",
    "builtin_function_or_method",
    "instance",
    "_Feature"
   ],
   "window_display": false
  }
 },
 "nbformat": 4,
 "nbformat_minor": 5
}
